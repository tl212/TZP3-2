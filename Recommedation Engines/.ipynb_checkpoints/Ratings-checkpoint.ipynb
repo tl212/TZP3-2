{
 "cells": [
  {
   "cell_type": "code",
   "execution_count": 1,
   "metadata": {},
   "outputs": [],
   "source": [
    "import pandas as pd\n",
    "import numpy as np\n",
    "import matplotlib.pyplot as plt\n",
    "import pymongo\n",
    "from pprint import pprint\n",
    "import joblib"
   ]
  },
  {
   "cell_type": "markdown",
   "metadata": {},
   "source": [
    "#### Prepare Ratings Data \n",
    "\n",
    "The ratings dataset contains approximately 27,000,000 ratings. This may require more processing power and memory than a personal computer is able to handle. We are first going to explore the data and then decide if we should split it based on a metric or just randomly select a percentage of the data. The decision will ultimately be made by testing different sizes on our chosen Machine Learning model."
   ]
  },
  {
   "cell_type": "code",
   "execution_count": 2,
   "metadata": {},
   "outputs": [],
   "source": [
    "ratings = pd.read_csv('../Data/ratings.csv')"
   ]
  },
  {
   "cell_type": "code",
   "execution_count": 3,
   "metadata": {},
   "outputs": [
    {
     "name": "stdout",
     "output_type": "stream",
     "text": [
      "(26024289, 4)\n"
     ]
    },
    {
     "data": {
      "text/html": [
       "<div>\n",
       "<style scoped>\n",
       "    .dataframe tbody tr th:only-of-type {\n",
       "        vertical-align: middle;\n",
       "    }\n",
       "\n",
       "    .dataframe tbody tr th {\n",
       "        vertical-align: top;\n",
       "    }\n",
       "\n",
       "    .dataframe thead th {\n",
       "        text-align: right;\n",
       "    }\n",
       "</style>\n",
       "<table border=\"1\" class=\"dataframe\">\n",
       "  <thead>\n",
       "    <tr style=\"text-align: right;\">\n",
       "      <th></th>\n",
       "      <th>userId</th>\n",
       "      <th>movieId</th>\n",
       "      <th>rating</th>\n",
       "      <th>timestamp</th>\n",
       "    </tr>\n",
       "  </thead>\n",
       "  <tbody>\n",
       "    <tr>\n",
       "      <th>0</th>\n",
       "      <td>1</td>\n",
       "      <td>110</td>\n",
       "      <td>1.0</td>\n",
       "      <td>1425941529</td>\n",
       "    </tr>\n",
       "    <tr>\n",
       "      <th>1</th>\n",
       "      <td>1</td>\n",
       "      <td>147</td>\n",
       "      <td>4.5</td>\n",
       "      <td>1425942435</td>\n",
       "    </tr>\n",
       "    <tr>\n",
       "      <th>2</th>\n",
       "      <td>1</td>\n",
       "      <td>858</td>\n",
       "      <td>5.0</td>\n",
       "      <td>1425941523</td>\n",
       "    </tr>\n",
       "    <tr>\n",
       "      <th>3</th>\n",
       "      <td>1</td>\n",
       "      <td>1221</td>\n",
       "      <td>5.0</td>\n",
       "      <td>1425941546</td>\n",
       "    </tr>\n",
       "    <tr>\n",
       "      <th>4</th>\n",
       "      <td>1</td>\n",
       "      <td>1246</td>\n",
       "      <td>5.0</td>\n",
       "      <td>1425941556</td>\n",
       "    </tr>\n",
       "  </tbody>\n",
       "</table>\n",
       "</div>"
      ],
      "text/plain": [
       "   userId  movieId  rating   timestamp\n",
       "0       1      110     1.0  1425941529\n",
       "1       1      147     4.5  1425942435\n",
       "2       1      858     5.0  1425941523\n",
       "3       1     1221     5.0  1425941546\n",
       "4       1     1246     5.0  1425941556"
      ]
     },
     "execution_count": 3,
     "metadata": {},
     "output_type": "execute_result"
    }
   ],
   "source": [
    "print(ratings.shape)\n",
    "ratings.head()"
   ]
  },
  {
   "cell_type": "code",
   "execution_count": 4,
   "metadata": {},
   "outputs": [
    {
     "name": "stdout",
     "output_type": "stream",
     "text": [
      "270896\n",
      "45115\n"
     ]
    }
   ],
   "source": [
    "# no. of unique users\n",
    "\n",
    "user_ct = ratings['userId'].unique()\n",
    "\n",
    "print(len(user_ct))\n",
    "\n",
    "# of unique movies\n",
    "\n",
    "movie_ct = ratings['movieId'].unique()\n",
    "\n",
    "print(len(movie_ct))"
   ]
  },
  {
   "cell_type": "code",
   "execution_count": 5,
   "metadata": {},
   "outputs": [
    {
     "data": {
      "text/html": [
       "<div>\n",
       "<style scoped>\n",
       "    .dataframe tbody tr th:only-of-type {\n",
       "        vertical-align: middle;\n",
       "    }\n",
       "\n",
       "    .dataframe tbody tr th {\n",
       "        vertical-align: top;\n",
       "    }\n",
       "\n",
       "    .dataframe thead th {\n",
       "        text-align: right;\n",
       "    }\n",
       "</style>\n",
       "<table border=\"1\" class=\"dataframe\">\n",
       "  <thead>\n",
       "    <tr style=\"text-align: right;\">\n",
       "      <th></th>\n",
       "      <th>Unnamed: 0</th>\n",
       "      <th>movieId</th>\n",
       "      <th>genres</th>\n",
       "      <th>Title</th>\n",
       "      <th>year</th>\n",
       "      <th>Genre</th>\n",
       "      <th>Actors</th>\n",
       "      <th>Director</th>\n",
       "      <th>Plot</th>\n",
       "      <th>Poster</th>\n",
       "    </tr>\n",
       "  </thead>\n",
       "  <tbody>\n",
       "    <tr>\n",
       "      <th>0</th>\n",
       "      <td>0</td>\n",
       "      <td>1</td>\n",
       "      <td>Adventure|Animation|Children|Comedy|Fantasy</td>\n",
       "      <td>Toy Story</td>\n",
       "      <td>1995</td>\n",
       "      <td>Animation, Adventure, Comedy, Family, Fantasy</td>\n",
       "      <td>Tom Hanks, Tim Allen, Don Rickles, Jim Varney</td>\n",
       "      <td>John Lasseter</td>\n",
       "      <td>A cowboy doll is profoundly threatened and jea...</td>\n",
       "      <td>https://m.media-amazon.com/images/M/MV5BMDU2ZW...</td>\n",
       "    </tr>\n",
       "    <tr>\n",
       "      <th>1</th>\n",
       "      <td>1</td>\n",
       "      <td>2</td>\n",
       "      <td>Adventure|Children|Fantasy</td>\n",
       "      <td>Jumanji</td>\n",
       "      <td>1995</td>\n",
       "      <td>Adventure, Comedy, Family, Fantasy</td>\n",
       "      <td>Robin Williams, Jonathan Hyde, Kirsten Dunst, ...</td>\n",
       "      <td>Joe Johnston</td>\n",
       "      <td>When two kids find and play a magical board ga...</td>\n",
       "      <td>https://m.media-amazon.com/images/M/MV5BZTk2Zm...</td>\n",
       "    </tr>\n",
       "    <tr>\n",
       "      <th>2</th>\n",
       "      <td>2</td>\n",
       "      <td>3</td>\n",
       "      <td>Comedy|Romance</td>\n",
       "      <td>Grumpier Old Men</td>\n",
       "      <td>1995</td>\n",
       "      <td>Comedy, Romance</td>\n",
       "      <td>Walter Matthau, Jack Lemmon, Sophia Loren, Ann...</td>\n",
       "      <td>Howard Deutch</td>\n",
       "      <td>John and Max resolve to save their beloved bai...</td>\n",
       "      <td>https://m.media-amazon.com/images/M/MV5BMjQxM2...</td>\n",
       "    </tr>\n",
       "    <tr>\n",
       "      <th>3</th>\n",
       "      <td>3</td>\n",
       "      <td>4</td>\n",
       "      <td>Comedy|Drama|Romance</td>\n",
       "      <td>Waiting to Exhale</td>\n",
       "      <td>1995</td>\n",
       "      <td>Comedy, Drama, Romance</td>\n",
       "      <td>Whitney Houston, Angela Bassett, Loretta Devin...</td>\n",
       "      <td>Forest Whitaker</td>\n",
       "      <td>Based on Terry McMillan's novel, this film fol...</td>\n",
       "      <td>https://m.media-amazon.com/images/M/MV5BYzcyMD...</td>\n",
       "    </tr>\n",
       "    <tr>\n",
       "      <th>4</th>\n",
       "      <td>4</td>\n",
       "      <td>5</td>\n",
       "      <td>Comedy</td>\n",
       "      <td>Father of the Bride Part II</td>\n",
       "      <td>1995</td>\n",
       "      <td>Comedy, Family, Romance</td>\n",
       "      <td>Steve Martin, Diane Keaton, Martin Short, Kimb...</td>\n",
       "      <td>Charles Shyer</td>\n",
       "      <td>George Banks must deal not only with the pregn...</td>\n",
       "      <td>https://m.media-amazon.com/images/M/MV5BOTEyNz...</td>\n",
       "    </tr>\n",
       "  </tbody>\n",
       "</table>\n",
       "</div>"
      ],
      "text/plain": [
       "   Unnamed: 0  movieId                                       genres  \\\n",
       "0           0        1  Adventure|Animation|Children|Comedy|Fantasy   \n",
       "1           1        2                   Adventure|Children|Fantasy   \n",
       "2           2        3                               Comedy|Romance   \n",
       "3           3        4                         Comedy|Drama|Romance   \n",
       "4           4        5                                       Comedy   \n",
       "\n",
       "                         Title  year  \\\n",
       "0                    Toy Story  1995   \n",
       "1                      Jumanji  1995   \n",
       "2             Grumpier Old Men  1995   \n",
       "3            Waiting to Exhale  1995   \n",
       "4  Father of the Bride Part II  1995   \n",
       "\n",
       "                                           Genre  \\\n",
       "0  Animation, Adventure, Comedy, Family, Fantasy   \n",
       "1             Adventure, Comedy, Family, Fantasy   \n",
       "2                                Comedy, Romance   \n",
       "3                         Comedy, Drama, Romance   \n",
       "4                        Comedy, Family, Romance   \n",
       "\n",
       "                                              Actors         Director  \\\n",
       "0      Tom Hanks, Tim Allen, Don Rickles, Jim Varney    John Lasseter   \n",
       "1  Robin Williams, Jonathan Hyde, Kirsten Dunst, ...     Joe Johnston   \n",
       "2  Walter Matthau, Jack Lemmon, Sophia Loren, Ann...    Howard Deutch   \n",
       "3  Whitney Houston, Angela Bassett, Loretta Devin...  Forest Whitaker   \n",
       "4  Steve Martin, Diane Keaton, Martin Short, Kimb...    Charles Shyer   \n",
       "\n",
       "                                                Plot  \\\n",
       "0  A cowboy doll is profoundly threatened and jea...   \n",
       "1  When two kids find and play a magical board ga...   \n",
       "2  John and Max resolve to save their beloved bai...   \n",
       "3  Based on Terry McMillan's novel, this film fol...   \n",
       "4  George Banks must deal not only with the pregn...   \n",
       "\n",
       "                                              Poster  \n",
       "0  https://m.media-amazon.com/images/M/MV5BMDU2ZW...  \n",
       "1  https://m.media-amazon.com/images/M/MV5BZTk2Zm...  \n",
       "2  https://m.media-amazon.com/images/M/MV5BMjQxM2...  \n",
       "3  https://m.media-amazon.com/images/M/MV5BYzcyMD...  \n",
       "4  https://m.media-amazon.com/images/M/MV5BOTEyNz...  "
      ]
     },
     "execution_count": 5,
     "metadata": {},
     "output_type": "execute_result"
    }
   ],
   "source": [
    "movies = pd.read_csv('Data/movies_final')\n",
    "\n",
    "movies.head()"
   ]
  },
  {
   "cell_type": "code",
   "execution_count": 6,
   "metadata": {},
   "outputs": [
    {
     "data": {
      "text/plain": [
       "Index(['Unnamed: 0', 'movieId', 'genres', 'Title', 'year', 'Genre', 'Actors',\n",
       "       'Director', 'Plot', 'Poster'],\n",
       "      dtype='object')"
      ]
     },
     "execution_count": 6,
     "metadata": {},
     "output_type": "execute_result"
    }
   ],
   "source": [
    "movies.columns\n"
   ]
  },
  {
   "cell_type": "code",
   "execution_count": 7,
   "metadata": {},
   "outputs": [],
   "source": [
    "movies.drop(['Unnamed: 0'], axis=1, inplace = True)"
   ]
  },
  {
   "cell_type": "code",
   "execution_count": null,
   "metadata": {},
   "outputs": [],
   "source": []
  },
  {
   "cell_type": "code",
   "execution_count": 8,
   "metadata": {},
   "outputs": [],
   "source": [
    "# combine ratings and movies. only keep ratings where the movie exists in our dataset\n",
    "\n",
    "movie_w_ratings = pd.merge(ratings, movies,how = 'inner', on='movieId')"
   ]
  },
  {
   "cell_type": "code",
   "execution_count": 9,
   "metadata": {},
   "outputs": [
    {
     "name": "stdout",
     "output_type": "stream",
     "text": [
      "(15178941, 12)\n"
     ]
    },
    {
     "data": {
      "text/html": [
       "<div>\n",
       "<style scoped>\n",
       "    .dataframe tbody tr th:only-of-type {\n",
       "        vertical-align: middle;\n",
       "    }\n",
       "\n",
       "    .dataframe tbody tr th {\n",
       "        vertical-align: top;\n",
       "    }\n",
       "\n",
       "    .dataframe thead th {\n",
       "        text-align: right;\n",
       "    }\n",
       "</style>\n",
       "<table border=\"1\" class=\"dataframe\">\n",
       "  <thead>\n",
       "    <tr style=\"text-align: right;\">\n",
       "      <th></th>\n",
       "      <th>userId</th>\n",
       "      <th>movieId</th>\n",
       "      <th>rating</th>\n",
       "      <th>timestamp</th>\n",
       "      <th>genres</th>\n",
       "      <th>Title</th>\n",
       "      <th>year</th>\n",
       "      <th>Genre</th>\n",
       "      <th>Actors</th>\n",
       "      <th>Director</th>\n",
       "      <th>Plot</th>\n",
       "      <th>Poster</th>\n",
       "    </tr>\n",
       "  </thead>\n",
       "  <tbody>\n",
       "    <tr>\n",
       "      <th>0</th>\n",
       "      <td>1</td>\n",
       "      <td>110</td>\n",
       "      <td>1.0</td>\n",
       "      <td>1425941529</td>\n",
       "      <td>Action|Drama|War</td>\n",
       "      <td>Braveheart</td>\n",
       "      <td>1995</td>\n",
       "      <td>Biography, Drama, History, War</td>\n",
       "      <td>James Robinson, Sean Lawlor, Sandy Nelson, Jam...</td>\n",
       "      <td>Mel Gibson</td>\n",
       "      <td>When his secret bride is executed for assaulti...</td>\n",
       "      <td>https://m.media-amazon.com/images/M/MV5BMzkzMm...</td>\n",
       "    </tr>\n",
       "    <tr>\n",
       "      <th>1</th>\n",
       "      <td>11</td>\n",
       "      <td>110</td>\n",
       "      <td>3.5</td>\n",
       "      <td>1231676989</td>\n",
       "      <td>Action|Drama|War</td>\n",
       "      <td>Braveheart</td>\n",
       "      <td>1995</td>\n",
       "      <td>Biography, Drama, History, War</td>\n",
       "      <td>James Robinson, Sean Lawlor, Sandy Nelson, Jam...</td>\n",
       "      <td>Mel Gibson</td>\n",
       "      <td>When his secret bride is executed for assaulti...</td>\n",
       "      <td>https://m.media-amazon.com/images/M/MV5BMzkzMm...</td>\n",
       "    </tr>\n",
       "    <tr>\n",
       "      <th>2</th>\n",
       "      <td>22</td>\n",
       "      <td>110</td>\n",
       "      <td>5.0</td>\n",
       "      <td>1111937009</td>\n",
       "      <td>Action|Drama|War</td>\n",
       "      <td>Braveheart</td>\n",
       "      <td>1995</td>\n",
       "      <td>Biography, Drama, History, War</td>\n",
       "      <td>James Robinson, Sean Lawlor, Sandy Nelson, Jam...</td>\n",
       "      <td>Mel Gibson</td>\n",
       "      <td>When his secret bride is executed for assaulti...</td>\n",
       "      <td>https://m.media-amazon.com/images/M/MV5BMzkzMm...</td>\n",
       "    </tr>\n",
       "    <tr>\n",
       "      <th>3</th>\n",
       "      <td>24</td>\n",
       "      <td>110</td>\n",
       "      <td>5.0</td>\n",
       "      <td>979870012</td>\n",
       "      <td>Action|Drama|War</td>\n",
       "      <td>Braveheart</td>\n",
       "      <td>1995</td>\n",
       "      <td>Biography, Drama, History, War</td>\n",
       "      <td>James Robinson, Sean Lawlor, Sandy Nelson, Jam...</td>\n",
       "      <td>Mel Gibson</td>\n",
       "      <td>When his secret bride is executed for assaulti...</td>\n",
       "      <td>https://m.media-amazon.com/images/M/MV5BMzkzMm...</td>\n",
       "    </tr>\n",
       "    <tr>\n",
       "      <th>4</th>\n",
       "      <td>29</td>\n",
       "      <td>110</td>\n",
       "      <td>3.0</td>\n",
       "      <td>1044020005</td>\n",
       "      <td>Action|Drama|War</td>\n",
       "      <td>Braveheart</td>\n",
       "      <td>1995</td>\n",
       "      <td>Biography, Drama, History, War</td>\n",
       "      <td>James Robinson, Sean Lawlor, Sandy Nelson, Jam...</td>\n",
       "      <td>Mel Gibson</td>\n",
       "      <td>When his secret bride is executed for assaulti...</td>\n",
       "      <td>https://m.media-amazon.com/images/M/MV5BMzkzMm...</td>\n",
       "    </tr>\n",
       "  </tbody>\n",
       "</table>\n",
       "</div>"
      ],
      "text/plain": [
       "   userId  movieId  rating   timestamp            genres       Title  year  \\\n",
       "0       1      110     1.0  1425941529  Action|Drama|War  Braveheart  1995   \n",
       "1      11      110     3.5  1231676989  Action|Drama|War  Braveheart  1995   \n",
       "2      22      110     5.0  1111937009  Action|Drama|War  Braveheart  1995   \n",
       "3      24      110     5.0   979870012  Action|Drama|War  Braveheart  1995   \n",
       "4      29      110     3.0  1044020005  Action|Drama|War  Braveheart  1995   \n",
       "\n",
       "                            Genre  \\\n",
       "0  Biography, Drama, History, War   \n",
       "1  Biography, Drama, History, War   \n",
       "2  Biography, Drama, History, War   \n",
       "3  Biography, Drama, History, War   \n",
       "4  Biography, Drama, History, War   \n",
       "\n",
       "                                              Actors    Director  \\\n",
       "0  James Robinson, Sean Lawlor, Sandy Nelson, Jam...  Mel Gibson   \n",
       "1  James Robinson, Sean Lawlor, Sandy Nelson, Jam...  Mel Gibson   \n",
       "2  James Robinson, Sean Lawlor, Sandy Nelson, Jam...  Mel Gibson   \n",
       "3  James Robinson, Sean Lawlor, Sandy Nelson, Jam...  Mel Gibson   \n",
       "4  James Robinson, Sean Lawlor, Sandy Nelson, Jam...  Mel Gibson   \n",
       "\n",
       "                                                Plot  \\\n",
       "0  When his secret bride is executed for assaulti...   \n",
       "1  When his secret bride is executed for assaulti...   \n",
       "2  When his secret bride is executed for assaulti...   \n",
       "3  When his secret bride is executed for assaulti...   \n",
       "4  When his secret bride is executed for assaulti...   \n",
       "\n",
       "                                              Poster  \n",
       "0  https://m.media-amazon.com/images/M/MV5BMzkzMm...  \n",
       "1  https://m.media-amazon.com/images/M/MV5BMzkzMm...  \n",
       "2  https://m.media-amazon.com/images/M/MV5BMzkzMm...  \n",
       "3  https://m.media-amazon.com/images/M/MV5BMzkzMm...  \n",
       "4  https://m.media-amazon.com/images/M/MV5BMzkzMm...  "
      ]
     },
     "execution_count": 9,
     "metadata": {},
     "output_type": "execute_result"
    }
   ],
   "source": [
    "print(movie_w_ratings.shape)\n",
    "movie_w_ratings.head()"
   ]
  },
  {
   "cell_type": "code",
   "execution_count": 10,
   "metadata": {},
   "outputs": [
    {
     "name": "stdout",
     "output_type": "stream",
     "text": [
      "267150\n",
      "22203\n"
     ]
    }
   ],
   "source": [
    "# find the number of unique users and unique movies\n",
    "\n",
    "user_count = movie_w_ratings['userId'].unique()\n",
    "\n",
    "print(len(user_count))\n",
    "\n",
    "movie_count = movie_w_ratings['movieId'].unique()\n",
    "\n",
    "print(len(movie_count))"
   ]
  },
  {
   "cell_type": "markdown",
   "metadata": {},
   "source": [
    "The number of unique movies decreased from 45,115 to 22,203. The number of unique users decreased from 270,896 to 267,150. Despite the big drop in the number of movies, we still have 15,178,941 ratings."
   ]
  },
  {
   "cell_type": "code",
   "execution_count": 11,
   "metadata": {},
   "outputs": [
    {
     "data": {
      "text/html": [
       "<div>\n",
       "<style scoped>\n",
       "    .dataframe tbody tr th:only-of-type {\n",
       "        vertical-align: middle;\n",
       "    }\n",
       "\n",
       "    .dataframe tbody tr th {\n",
       "        vertical-align: top;\n",
       "    }\n",
       "\n",
       "    .dataframe thead th {\n",
       "        text-align: right;\n",
       "    }\n",
       "</style>\n",
       "<table border=\"1\" class=\"dataframe\">\n",
       "  <thead>\n",
       "    <tr style=\"text-align: right;\">\n",
       "      <th></th>\n",
       "      <th>userId</th>\n",
       "      <th>movieId</th>\n",
       "      <th>Title</th>\n",
       "      <th>rating</th>\n",
       "    </tr>\n",
       "  </thead>\n",
       "  <tbody>\n",
       "    <tr>\n",
       "      <th>0</th>\n",
       "      <td>1</td>\n",
       "      <td>110</td>\n",
       "      <td>Braveheart</td>\n",
       "      <td>1.0</td>\n",
       "    </tr>\n",
       "    <tr>\n",
       "      <th>1</th>\n",
       "      <td>11</td>\n",
       "      <td>110</td>\n",
       "      <td>Braveheart</td>\n",
       "      <td>3.5</td>\n",
       "    </tr>\n",
       "    <tr>\n",
       "      <th>2</th>\n",
       "      <td>22</td>\n",
       "      <td>110</td>\n",
       "      <td>Braveheart</td>\n",
       "      <td>5.0</td>\n",
       "    </tr>\n",
       "    <tr>\n",
       "      <th>3</th>\n",
       "      <td>24</td>\n",
       "      <td>110</td>\n",
       "      <td>Braveheart</td>\n",
       "      <td>5.0</td>\n",
       "    </tr>\n",
       "    <tr>\n",
       "      <th>4</th>\n",
       "      <td>29</td>\n",
       "      <td>110</td>\n",
       "      <td>Braveheart</td>\n",
       "      <td>3.0</td>\n",
       "    </tr>\n",
       "  </tbody>\n",
       "</table>\n",
       "</div>"
      ],
      "text/plain": [
       "   userId  movieId       Title  rating\n",
       "0       1      110  Braveheart     1.0\n",
       "1      11      110  Braveheart     3.5\n",
       "2      22      110  Braveheart     5.0\n",
       "3      24      110  Braveheart     5.0\n",
       "4      29      110  Braveheart     3.0"
      ]
     },
     "execution_count": 11,
     "metadata": {},
     "output_type": "execute_result"
    }
   ],
   "source": [
    "# make new dataframe with only movieId, title, rating\n",
    "\n",
    "new_ratings = movie_w_ratings[['userId','movieId', 'Title', 'rating']]\n",
    "\n",
    "new_ratings.head()"
   ]
  },
  {
   "cell_type": "markdown",
   "metadata": {},
   "source": [
    "#### Exploratory Data Analysis"
   ]
  },
  {
   "cell_type": "code",
   "execution_count": 12,
   "metadata": {},
   "outputs": [
    {
     "data": {
      "text/plain": [
       "Title\n",
       "Range 15                     5.0\n",
       "Top of the World             5.0\n",
       "Slingshot Hip Hop            5.0\n",
       "Il cielo è sempre più blu    5.0\n",
       "Double Daddy                 5.0\n",
       "Name: rating, dtype: float64"
      ]
     },
     "execution_count": 12,
     "metadata": {},
     "output_type": "execute_result"
    }
   ],
   "source": [
    "# Find the average rating per movie title and sort\n",
    "\n",
    "avg_movie_rate  = new_ratings.groupby('Title')['rating'].mean().sort_values(ascending=False)  \n",
    "\n",
    "avg_movie_rate.head()"
   ]
  },
  {
   "cell_type": "code",
   "execution_count": 13,
   "metadata": {},
   "outputs": [
    {
     "data": {
      "image/png": "[encoded data removed]",
      "text/plain": [
       "<Figure size 432x288 with 1 Axes>"
      ]
     },
     "metadata": {
      "needs_background": "light"
     },
     "output_type": "display_data"
    }
   ],
   "source": [
    "# create histogram to show avg movie rating\n",
    "\n",
    "plt.hist(avg_movie_rate,\n",
    "         bins=10,\n",
    "         density=False,\n",
    "         histtype='bar',\n",
    "         color='b',\n",
    "         edgecolor='k',\n",
    "         alpha=0.5)\n",
    "\n",
    "plt.xlabel('Movie Rating')\n",
    "plt.ylabel('Number of Movies')\n",
    "plt.title('Histogram of Average Movie Rating')\n",
    "\n",
    "plt.show()"
   ]
  },
  {
   "cell_type": "code",
   "execution_count": 14,
   "metadata": {},
   "outputs": [
    {
     "data": {
      "text/plain": [
       "Title\n",
       "Forrest Gump                          91921\n",
       "Pulp Fiction                          87901\n",
       "Star Wars: Episode IV - A New Hope    77045\n",
       "Jurassic Park                         74355\n",
       "Schindler's List                      67662\n",
       "Braveheart                            66512\n",
       "Toy Story                             66008\n",
       "Terminator 2: Judgment Day            61836\n",
       "Fight Club                            60024\n",
       "American Beauty                       57879\n",
       "Name: rating, dtype: int64"
      ]
     },
     "execution_count": 14,
     "metadata": {},
     "output_type": "execute_result"
    }
   ],
   "source": [
    "# explore the number of ratings per movie\n",
    "\n",
    "rate_counts = new_ratings.groupby('Title')['rating'].count().sort_values(ascending=False)\n",
    "\n",
    "rate_counts.head(10)"
   ]
  },
  {
   "cell_type": "code",
   "execution_count": 15,
   "metadata": {},
   "outputs": [
    {
     "data": {
      "image/png": "[encoded data removed]",
      "text/plain": [
       "<Figure size 576x432 with 1 Axes>"
      ]
     },
     "metadata": {
      "needs_background": "light"
     },
     "output_type": "display_data"
    }
   ],
   "source": [
    "# create histogram to show number of ratings per movie\n",
    "\n",
    "plt.figure(figsize=(8,6)) \n",
    "plt.hist(rate_counts,\n",
    "         bins=50,\n",
    "         density=False,\n",
    "         histtype='bar',\n",
    "         color='b',\n",
    "         edgecolor='k',\n",
    "         alpha=0.5)\n",
    "\n",
    "plt.xlabel('No. of Ratings')\n",
    "plt.ylabel('No. of Movies')\n",
    "plt.title('Histogram of Movie Rating Counts')\n",
    "# plt.xticks([0, 5000, 10000, 15000, 20000])\n",
    "\n",
    "plt.show()"
   ]
  },
  {
   "cell_type": "code",
   "execution_count": 16,
   "metadata": {},
   "outputs": [
    {
     "data": {
      "text/html": [
       "<div>\n",
       "<style scoped>\n",
       "    .dataframe tbody tr th:only-of-type {\n",
       "        vertical-align: middle;\n",
       "    }\n",
       "\n",
       "    .dataframe tbody tr th {\n",
       "        vertical-align: top;\n",
       "    }\n",
       "\n",
       "    .dataframe thead th {\n",
       "        text-align: right;\n",
       "    }\n",
       "</style>\n",
       "<table border=\"1\" class=\"dataframe\">\n",
       "  <thead>\n",
       "    <tr style=\"text-align: right;\">\n",
       "      <th></th>\n",
       "      <th>rating</th>\n",
       "    </tr>\n",
       "    <tr>\n",
       "      <th>Title</th>\n",
       "      <th></th>\n",
       "    </tr>\n",
       "  </thead>\n",
       "  <tbody>\n",
       "    <tr>\n",
       "      <th>$5 a Day</th>\n",
       "      <td>2.971698</td>\n",
       "    </tr>\n",
       "    <tr>\n",
       "      <th>$50K and a Call Girl: A Love Story</th>\n",
       "      <td>3.750000</td>\n",
       "    </tr>\n",
       "    <tr>\n",
       "      <th>$9.99</th>\n",
       "      <td>3.107143</td>\n",
       "    </tr>\n",
       "    <tr>\n",
       "      <th>$ellebrity</th>\n",
       "      <td>2.357143</td>\n",
       "    </tr>\n",
       "    <tr>\n",
       "      <th>'71</th>\n",
       "      <td>3.715953</td>\n",
       "    </tr>\n",
       "  </tbody>\n",
       "</table>\n",
       "</div>"
      ],
      "text/plain": [
       "                                      rating\n",
       "Title                                       \n",
       "$5 a Day                            2.971698\n",
       "$50K and a Call Girl: A Love Story  3.750000\n",
       "$9.99                               3.107143\n",
       "$ellebrity                          2.357143\n",
       "'71                                 3.715953"
      ]
     },
     "execution_count": 16,
     "metadata": {},
     "output_type": "execute_result"
    }
   ],
   "source": [
    "# create a dataframe to store the average ratings\n",
    "ratings_mean_count = pd.DataFrame(new_ratings.groupby('Title')['rating'].mean())  \n",
    "\n",
    "ratings_mean_count.head()"
   ]
  },
  {
   "cell_type": "code",
   "execution_count": 17,
   "metadata": {},
   "outputs": [],
   "source": [
    "# add ratings_ct \n",
    "\n",
    "ratings_mean_count['rating_counts'] = pd.DataFrame(new_ratings.groupby('Title')['rating'].count())  "
   ]
  },
  {
   "cell_type": "code",
   "execution_count": 18,
   "metadata": {},
   "outputs": [
    {
     "data": {
      "text/html": [
       "<div>\n",
       "<style scoped>\n",
       "    .dataframe tbody tr th:only-of-type {\n",
       "        vertical-align: middle;\n",
       "    }\n",
       "\n",
       "    .dataframe tbody tr th {\n",
       "        vertical-align: top;\n",
       "    }\n",
       "\n",
       "    .dataframe thead th {\n",
       "        text-align: right;\n",
       "    }\n",
       "</style>\n",
       "<table border=\"1\" class=\"dataframe\">\n",
       "  <thead>\n",
       "    <tr style=\"text-align: right;\">\n",
       "      <th></th>\n",
       "      <th>rating</th>\n",
       "      <th>rating_counts</th>\n",
       "    </tr>\n",
       "    <tr>\n",
       "      <th>Title</th>\n",
       "      <th></th>\n",
       "      <th></th>\n",
       "    </tr>\n",
       "  </thead>\n",
       "  <tbody>\n",
       "    <tr>\n",
       "      <th>$5 a Day</th>\n",
       "      <td>2.971698</td>\n",
       "      <td>53</td>\n",
       "    </tr>\n",
       "    <tr>\n",
       "      <th>$50K and a Call Girl: A Love Story</th>\n",
       "      <td>3.750000</td>\n",
       "      <td>2</td>\n",
       "    </tr>\n",
       "    <tr>\n",
       "      <th>$9.99</th>\n",
       "      <td>3.107143</td>\n",
       "      <td>70</td>\n",
       "    </tr>\n",
       "    <tr>\n",
       "      <th>$ellebrity</th>\n",
       "      <td>2.357143</td>\n",
       "      <td>7</td>\n",
       "    </tr>\n",
       "    <tr>\n",
       "      <th>'71</th>\n",
       "      <td>3.715953</td>\n",
       "      <td>257</td>\n",
       "    </tr>\n",
       "  </tbody>\n",
       "</table>\n",
       "</div>"
      ],
      "text/plain": [
       "                                      rating  rating_counts\n",
       "Title                                                      \n",
       "$5 a Day                            2.971698             53\n",
       "$50K and a Call Girl: A Love Story  3.750000              2\n",
       "$9.99                               3.107143             70\n",
       "$ellebrity                          2.357143              7\n",
       "'71                                 3.715953            257"
      ]
     },
     "execution_count": 18,
     "metadata": {},
     "output_type": "execute_result"
    }
   ],
   "source": [
    "ratings_mean_count.head()"
   ]
  },
  {
   "cell_type": "code",
   "execution_count": 19,
   "metadata": {},
   "outputs": [],
   "source": [
    "# rename rating column to mean_rating\n",
    "\n",
    "ratings_mean_count = ratings_mean_count.rename(columns = {'rating': 'mean_rating'})"
   ]
  },
  {
   "cell_type": "code",
   "execution_count": 20,
   "metadata": {},
   "outputs": [
    {
     "name": "stdout",
     "output_type": "stream",
     "text": [
      "(15178941, 6)\n"
     ]
    },
    {
     "data": {
      "text/html": [
       "<div>\n",
       "<style scoped>\n",
       "    .dataframe tbody tr th:only-of-type {\n",
       "        vertical-align: middle;\n",
       "    }\n",
       "\n",
       "    .dataframe tbody tr th {\n",
       "        vertical-align: top;\n",
       "    }\n",
       "\n",
       "    .dataframe thead th {\n",
       "        text-align: right;\n",
       "    }\n",
       "</style>\n",
       "<table border=\"1\" class=\"dataframe\">\n",
       "  <thead>\n",
       "    <tr style=\"text-align: right;\">\n",
       "      <th></th>\n",
       "      <th>Title</th>\n",
       "      <th>mean_rating</th>\n",
       "      <th>rating_counts</th>\n",
       "      <th>userId</th>\n",
       "      <th>movieId</th>\n",
       "      <th>rating</th>\n",
       "    </tr>\n",
       "  </thead>\n",
       "  <tbody>\n",
       "    <tr>\n",
       "      <th>0</th>\n",
       "      <td>$5 a Day</td>\n",
       "      <td>2.971698</td>\n",
       "      <td>53</td>\n",
       "      <td>1217</td>\n",
       "      <td>80361</td>\n",
       "      <td>2.5</td>\n",
       "    </tr>\n",
       "    <tr>\n",
       "      <th>1</th>\n",
       "      <td>$5 a Day</td>\n",
       "      <td>2.971698</td>\n",
       "      <td>53</td>\n",
       "      <td>18368</td>\n",
       "      <td>80361</td>\n",
       "      <td>4.0</td>\n",
       "    </tr>\n",
       "    <tr>\n",
       "      <th>2</th>\n",
       "      <td>$5 a Day</td>\n",
       "      <td>2.971698</td>\n",
       "      <td>53</td>\n",
       "      <td>20366</td>\n",
       "      <td>80361</td>\n",
       "      <td>4.0</td>\n",
       "    </tr>\n",
       "    <tr>\n",
       "      <th>3</th>\n",
       "      <td>$5 a Day</td>\n",
       "      <td>2.971698</td>\n",
       "      <td>53</td>\n",
       "      <td>33701</td>\n",
       "      <td>80361</td>\n",
       "      <td>3.0</td>\n",
       "    </tr>\n",
       "    <tr>\n",
       "      <th>4</th>\n",
       "      <td>$5 a Day</td>\n",
       "      <td>2.971698</td>\n",
       "      <td>53</td>\n",
       "      <td>37166</td>\n",
       "      <td>80361</td>\n",
       "      <td>3.5</td>\n",
       "    </tr>\n",
       "  </tbody>\n",
       "</table>\n",
       "</div>"
      ],
      "text/plain": [
       "      Title  mean_rating  rating_counts  userId  movieId  rating\n",
       "0  $5 a Day     2.971698             53    1217    80361     2.5\n",
       "1  $5 a Day     2.971698             53   18368    80361     4.0\n",
       "2  $5 a Day     2.971698             53   20366    80361     4.0\n",
       "3  $5 a Day     2.971698             53   33701    80361     3.0\n",
       "4  $5 a Day     2.971698             53   37166    80361     3.5"
      ]
     },
     "execution_count": 20,
     "metadata": {},
     "output_type": "execute_result"
    }
   ],
   "source": [
    "# merge with new_ratings to get movie_Id\n",
    "\n",
    "ratings_summ = pd.merge(ratings_mean_count, new_ratings, how='inner', on = 'Title')\n",
    "print(ratings_summ.shape)\n",
    "ratings_summ.head()"
   ]
  },
  {
   "cell_type": "code",
   "execution_count": null,
   "metadata": {},
   "outputs": [],
   "source": []
  },
  {
   "cell_type": "code",
   "execution_count": 21,
   "metadata": {},
   "outputs": [
    {
     "data": {
      "text/html": [
       "<div>\n",
       "<style scoped>\n",
       "    .dataframe tbody tr th:only-of-type {\n",
       "        vertical-align: middle;\n",
       "    }\n",
       "\n",
       "    .dataframe tbody tr th {\n",
       "        vertical-align: top;\n",
       "    }\n",
       "\n",
       "    .dataframe thead th {\n",
       "        text-align: right;\n",
       "    }\n",
       "</style>\n",
       "<table border=\"1\" class=\"dataframe\">\n",
       "  <thead>\n",
       "    <tr style=\"text-align: right;\">\n",
       "      <th></th>\n",
       "      <th>mean_rating</th>\n",
       "      <th>rating_counts</th>\n",
       "    </tr>\n",
       "  </thead>\n",
       "  <tbody>\n",
       "    <tr>\n",
       "      <th>count</th>\n",
       "      <td>20164.000000</td>\n",
       "      <td>20164.000000</td>\n",
       "    </tr>\n",
       "    <tr>\n",
       "      <th>mean</th>\n",
       "      <td>3.037785</td>\n",
       "      <td>752.774301</td>\n",
       "    </tr>\n",
       "    <tr>\n",
       "      <th>std</th>\n",
       "      <td>0.731171</td>\n",
       "      <td>3473.208063</td>\n",
       "    </tr>\n",
       "    <tr>\n",
       "      <th>min</th>\n",
       "      <td>0.500000</td>\n",
       "      <td>1.000000</td>\n",
       "    </tr>\n",
       "    <tr>\n",
       "      <th>25%</th>\n",
       "      <td>2.666667</td>\n",
       "      <td>3.000000</td>\n",
       "    </tr>\n",
       "    <tr>\n",
       "      <th>50%</th>\n",
       "      <td>3.138868</td>\n",
       "      <td>12.000000</td>\n",
       "    </tr>\n",
       "    <tr>\n",
       "      <th>75%</th>\n",
       "      <td>3.500000</td>\n",
       "      <td>111.000000</td>\n",
       "    </tr>\n",
       "    <tr>\n",
       "      <th>max</th>\n",
       "      <td>5.000000</td>\n",
       "      <td>91921.000000</td>\n",
       "    </tr>\n",
       "  </tbody>\n",
       "</table>\n",
       "</div>"
      ],
      "text/plain": [
       "        mean_rating  rating_counts\n",
       "count  20164.000000   20164.000000\n",
       "mean       3.037785     752.774301\n",
       "std        0.731171    3473.208063\n",
       "min        0.500000       1.000000\n",
       "25%        2.666667       3.000000\n",
       "50%        3.138868      12.000000\n",
       "75%        3.500000     111.000000\n",
       "max        5.000000   91921.000000"
      ]
     },
     "execution_count": 21,
     "metadata": {},
     "output_type": "execute_result"
    }
   ],
   "source": [
    "# get the descriptive statistics for the dataset\n",
    "ratings_mean_count.describe()"
   ]
  },
  {
   "cell_type": "code",
   "execution_count": 22,
   "metadata": {},
   "outputs": [
    {
     "data": {
      "image/png": "[encoded data removed]",
      "text/plain": [
       "<Figure size 432x288 with 1 Axes>"
      ]
     },
     "metadata": {
      "needs_background": "light"
     },
     "output_type": "display_data"
    }
   ],
   "source": [
    "# create a scatter plot to explore the relationship between average rating and ratings count\n",
    "\n",
    "x = ratings_mean_count['mean_rating']\n",
    "y = ratings_mean_count['rating_counts']\n",
    "\n",
    "plt.scatter(x, y, c='blue', alpha=0.5)\n",
    "plt.title('Relationship between the Mean Rating and the Number of Ratings per movie')\n",
    "plt.xlabel('Mean Rating')\n",
    "plt.ylabel('Number of Ratings')\n",
    "plt.show()"
   ]
  },
  {
   "cell_type": "markdown",
   "metadata": {},
   "source": [
    "##### Explore User Behavior"
   ]
  },
  {
   "cell_type": "code",
   "execution_count": 23,
   "metadata": {},
   "outputs": [
    {
     "data": {
      "text/plain": [
       "userId\n",
       "45811     8855\n",
       "270123    4587\n",
       "243443    4037\n",
       "8659      3402\n",
       "230417    3367\n",
       "Name: movieId, dtype: int64"
      ]
     },
     "execution_count": 23,
     "metadata": {},
     "output_type": "execute_result"
    }
   ],
   "source": [
    "# Find the number of ratings per User\n",
    "\n",
    "ratings_per_user  = new_ratings.groupby('userId')['movieId'].count().sort_values(ascending=False)  \n",
    "\n",
    "ratings_per_user.head()"
   ]
  },
  {
   "cell_type": "code",
   "execution_count": 24,
   "metadata": {},
   "outputs": [
    {
     "data": {
      "image/png": "[encoded data removed]",
      "text/plain": [
       "<Figure size 576x432 with 1 Axes>"
      ]
     },
     "metadata": {
      "needs_background": "light"
     },
     "output_type": "display_data"
    }
   ],
   "source": [
    "# Visualize User rating counts\n",
    "\n",
    "plt.figure(figsize=(8,6)) \n",
    "plt.hist(ratings_per_user,\n",
    "         bins=100,\n",
    "         density=False,\n",
    "         histtype='bar',\n",
    "         color='b',\n",
    "         edgecolor='k',\n",
    "         alpha=0.5)\n",
    "\n",
    "plt.xlabel('No. of Ratings')\n",
    "plt.ylabel('No. of Users')\n",
    "plt.title('Histogram of Number of User Ratings')\n",
    "# plt.xlim([0,10000])\n",
    "\n",
    "plt.show()"
   ]
  },
  {
   "cell_type": "code",
   "execution_count": 25,
   "metadata": {},
   "outputs": [
    {
     "data": {
      "text/html": [
       "<div>\n",
       "<style scoped>\n",
       "    .dataframe tbody tr th:only-of-type {\n",
       "        vertical-align: middle;\n",
       "    }\n",
       "\n",
       "    .dataframe tbody tr th {\n",
       "        vertical-align: top;\n",
       "    }\n",
       "\n",
       "    .dataframe thead th {\n",
       "        text-align: right;\n",
       "    }\n",
       "</style>\n",
       "<table border=\"1\" class=\"dataframe\">\n",
       "  <thead>\n",
       "    <tr style=\"text-align: right;\">\n",
       "      <th></th>\n",
       "      <th>num_user_rated</th>\n",
       "    </tr>\n",
       "    <tr>\n",
       "      <th>userId</th>\n",
       "      <th></th>\n",
       "    </tr>\n",
       "  </thead>\n",
       "  <tbody>\n",
       "    <tr>\n",
       "      <th>45811</th>\n",
       "      <td>8855</td>\n",
       "    </tr>\n",
       "    <tr>\n",
       "      <th>270123</th>\n",
       "      <td>4587</td>\n",
       "    </tr>\n",
       "    <tr>\n",
       "      <th>243443</th>\n",
       "      <td>4037</td>\n",
       "    </tr>\n",
       "    <tr>\n",
       "      <th>8659</th>\n",
       "      <td>3402</td>\n",
       "    </tr>\n",
       "    <tr>\n",
       "      <th>230417</th>\n",
       "      <td>3367</td>\n",
       "    </tr>\n",
       "  </tbody>\n",
       "</table>\n",
       "</div>"
      ],
      "text/plain": [
       "        num_user_rated\n",
       "userId                \n",
       "45811             8855\n",
       "270123            4587\n",
       "243443            4037\n",
       "8659              3402\n",
       "230417            3367"
      ]
     },
     "execution_count": 25,
     "metadata": {},
     "output_type": "execute_result"
    }
   ],
   "source": [
    "user_ratings = pd.DataFrame(new_ratings.groupby('userId')['movieId'].count().sort_values(ascending=False))\n",
    "\n",
    "user_ratings = user_ratings.rename(columns = {'movieId': 'num_user_rated'})\n",
    "user_ratings.head()"
   ]
  },
  {
   "cell_type": "code",
   "execution_count": 26,
   "metadata": {},
   "outputs": [
    {
     "data": {
      "text/html": [
       "<div>\n",
       "<style scoped>\n",
       "    .dataframe tbody tr th:only-of-type {\n",
       "        vertical-align: middle;\n",
       "    }\n",
       "\n",
       "    .dataframe tbody tr th {\n",
       "        vertical-align: top;\n",
       "    }\n",
       "\n",
       "    .dataframe thead th {\n",
       "        text-align: right;\n",
       "    }\n",
       "</style>\n",
       "<table border=\"1\" class=\"dataframe\">\n",
       "  <thead>\n",
       "    <tr style=\"text-align: right;\">\n",
       "      <th></th>\n",
       "      <th>num_user_rated</th>\n",
       "    </tr>\n",
       "  </thead>\n",
       "  <tbody>\n",
       "    <tr>\n",
       "      <th>count</th>\n",
       "      <td>267150.000000</td>\n",
       "    </tr>\n",
       "    <tr>\n",
       "      <th>mean</th>\n",
       "      <td>56.818046</td>\n",
       "    </tr>\n",
       "    <tr>\n",
       "      <th>std</th>\n",
       "      <td>118.668410</td>\n",
       "    </tr>\n",
       "    <tr>\n",
       "      <th>min</th>\n",
       "      <td>1.000000</td>\n",
       "    </tr>\n",
       "    <tr>\n",
       "      <th>25%</th>\n",
       "      <td>8.000000</td>\n",
       "    </tr>\n",
       "    <tr>\n",
       "      <th>50%</th>\n",
       "      <td>18.000000</td>\n",
       "    </tr>\n",
       "    <tr>\n",
       "      <th>75%</th>\n",
       "      <td>56.000000</td>\n",
       "    </tr>\n",
       "    <tr>\n",
       "      <th>max</th>\n",
       "      <td>8855.000000</td>\n",
       "    </tr>\n",
       "  </tbody>\n",
       "</table>\n",
       "</div>"
      ],
      "text/plain": [
       "       num_user_rated\n",
       "count   267150.000000\n",
       "mean        56.818046\n",
       "std        118.668410\n",
       "min          1.000000\n",
       "25%          8.000000\n",
       "50%         18.000000\n",
       "75%         56.000000\n",
       "max       8855.000000"
      ]
     },
     "execution_count": 26,
     "metadata": {},
     "output_type": "execute_result"
    }
   ],
   "source": [
    "# get the descriptive statistics for the dataset\n",
    "user_ratings.describe()"
   ]
  },
  {
   "cell_type": "markdown",
   "metadata": {},
   "source": [
    "#### Recommendation System\n",
    "\n",
    "In this section we will begin to explore different Machine Learning Models to decide which one best suits our data. We will look at K Nearest Neighbor (KNN), and Surprise SVD.\n",
    "\n",
    "As mentioned above due to processing power we may have to reduce the amount of data. Our goal is to have a meaningful number of users and movies that can be processed on our desktop computers. We explored the following options.\n",
    "1. We explored a hybrid of movie popularity and only using users that have rated between 50 and 150 movies. This resulted in too few movies (950) to have a quality dataset. \n",
    "\n",
    "2. We explored  According to our exploratory analysis, most users rate less than 200 movies. We then explored the data set using a variety of ranges to see what our desktop memory could accomodate. The sweet spot was between 50 and 150 ratings per user.\n",
    "\n",
    "We chose option 2.It gave us 12008 movies rated by 49216 users."
   ]
  },
  {
   "cell_type": "code",
   "execution_count": 27,
   "metadata": {},
   "outputs": [
    {
     "name": "stdout",
     "output_type": "stream",
     "text": [
      "(10718845, 6)\n"
     ]
    },
    {
     "data": {
      "text/html": [
       "<div>\n",
       "<style scoped>\n",
       "    .dataframe tbody tr th:only-of-type {\n",
       "        vertical-align: middle;\n",
       "    }\n",
       "\n",
       "    .dataframe tbody tr th {\n",
       "        vertical-align: top;\n",
       "    }\n",
       "\n",
       "    .dataframe thead th {\n",
       "        text-align: right;\n",
       "    }\n",
       "</style>\n",
       "<table border=\"1\" class=\"dataframe\">\n",
       "  <thead>\n",
       "    <tr style=\"text-align: right;\">\n",
       "      <th></th>\n",
       "      <th>Title</th>\n",
       "      <th>mean_rating</th>\n",
       "      <th>rating_counts</th>\n",
       "      <th>userId</th>\n",
       "      <th>movieId</th>\n",
       "      <th>rating</th>\n",
       "    </tr>\n",
       "  </thead>\n",
       "  <tbody>\n",
       "    <tr>\n",
       "      <th>3638</th>\n",
       "      <td>10 Things I Hate About You</td>\n",
       "      <td>3.515108</td>\n",
       "      <td>14793</td>\n",
       "      <td>12</td>\n",
       "      <td>2572</td>\n",
       "      <td>4.0</td>\n",
       "    </tr>\n",
       "    <tr>\n",
       "      <th>3639</th>\n",
       "      <td>10 Things I Hate About You</td>\n",
       "      <td>3.515108</td>\n",
       "      <td>14793</td>\n",
       "      <td>24</td>\n",
       "      <td>2572</td>\n",
       "      <td>3.0</td>\n",
       "    </tr>\n",
       "    <tr>\n",
       "      <th>3640</th>\n",
       "      <td>10 Things I Hate About You</td>\n",
       "      <td>3.515108</td>\n",
       "      <td>14793</td>\n",
       "      <td>29</td>\n",
       "      <td>2572</td>\n",
       "      <td>2.0</td>\n",
       "    </tr>\n",
       "    <tr>\n",
       "      <th>3641</th>\n",
       "      <td>10 Things I Hate About You</td>\n",
       "      <td>3.515108</td>\n",
       "      <td>14793</td>\n",
       "      <td>41</td>\n",
       "      <td>2572</td>\n",
       "      <td>5.0</td>\n",
       "    </tr>\n",
       "    <tr>\n",
       "      <th>3642</th>\n",
       "      <td>10 Things I Hate About You</td>\n",
       "      <td>3.515108</td>\n",
       "      <td>14793</td>\n",
       "      <td>43</td>\n",
       "      <td>2572</td>\n",
       "      <td>3.5</td>\n",
       "    </tr>\n",
       "  </tbody>\n",
       "</table>\n",
       "</div>"
      ],
      "text/plain": [
       "                           Title  mean_rating  rating_counts  userId  movieId  \\\n",
       "3638  10 Things I Hate About You     3.515108          14793      12     2572   \n",
       "3639  10 Things I Hate About You     3.515108          14793      24     2572   \n",
       "3640  10 Things I Hate About You     3.515108          14793      29     2572   \n",
       "3641  10 Things I Hate About You     3.515108          14793      41     2572   \n",
       "3642  10 Things I Hate About You     3.515108          14793      43     2572   \n",
       "\n",
       "      rating  \n",
       "3638     4.0  \n",
       "3639     3.0  \n",
       "3640     2.0  \n",
       "3641     5.0  \n",
       "3642     3.5  "
      ]
     },
     "execution_count": 27,
     "metadata": {},
     "output_type": "execute_result"
    }
   ],
   "source": [
    "# reduce size by eliminating movies rated less than 1000\n",
    "\n",
    "pop_movies = ratings_summ.loc[ratings_summ['rating_counts'] > 5000]\n",
    "print(pop_movies.shape)\n",
    "pop_movies.head()"
   ]
  },
  {
   "cell_type": "code",
   "execution_count": 28,
   "metadata": {},
   "outputs": [
    {
     "name": "stdout",
     "output_type": "stream",
     "text": [
      "(49216, 1)\n"
     ]
    },
    {
     "data": {
      "text/html": [
       "<div>\n",
       "<style scoped>\n",
       "    .dataframe tbody tr th:only-of-type {\n",
       "        vertical-align: middle;\n",
       "    }\n",
       "\n",
       "    .dataframe tbody tr th {\n",
       "        vertical-align: top;\n",
       "    }\n",
       "\n",
       "    .dataframe thead th {\n",
       "        text-align: right;\n",
       "    }\n",
       "</style>\n",
       "<table border=\"1\" class=\"dataframe\">\n",
       "  <thead>\n",
       "    <tr style=\"text-align: right;\">\n",
       "      <th></th>\n",
       "      <th>num_user_rated</th>\n",
       "    </tr>\n",
       "    <tr>\n",
       "      <th>userId</th>\n",
       "      <th></th>\n",
       "    </tr>\n",
       "  </thead>\n",
       "  <tbody>\n",
       "    <tr>\n",
       "      <th>33455</th>\n",
       "      <td>150</td>\n",
       "    </tr>\n",
       "    <tr>\n",
       "      <th>152343</th>\n",
       "      <td>150</td>\n",
       "    </tr>\n",
       "    <tr>\n",
       "      <th>169155</th>\n",
       "      <td>150</td>\n",
       "    </tr>\n",
       "    <tr>\n",
       "      <th>66713</th>\n",
       "      <td>150</td>\n",
       "    </tr>\n",
       "    <tr>\n",
       "      <th>97073</th>\n",
       "      <td>150</td>\n",
       "    </tr>\n",
       "  </tbody>\n",
       "</table>\n",
       "</div>"
      ],
      "text/plain": [
       "        num_user_rated\n",
       "userId                \n",
       "33455              150\n",
       "152343             150\n",
       "169155             150\n",
       "66713              150\n",
       "97073              150"
      ]
     },
     "execution_count": 28,
     "metadata": {},
     "output_type": "execute_result"
    }
   ],
   "source": [
    "# reduce the size of the new_ratings dataframe. \n",
    "# filter the dataset to only include users who have rated > 50 but < than 150 movies\n",
    "\n",
    "reg_users = user_ratings[(user_ratings['num_user_rated'] >= 50) & (user_ratings['num_user_rated'] <= 150)]\n",
    "print(reg_users.shape)\n",
    "reg_users.head()"
   ]
  },
  {
   "cell_type": "code",
   "execution_count": 29,
   "metadata": {},
   "outputs": [
    {
     "name": "stdout",
     "output_type": "stream",
     "text": [
      "(3319776, 7)\n"
     ]
    },
    {
     "data": {
      "text/html": [
       "<div>\n",
       "<style scoped>\n",
       "    .dataframe tbody tr th:only-of-type {\n",
       "        vertical-align: middle;\n",
       "    }\n",
       "\n",
       "    .dataframe tbody tr th {\n",
       "        vertical-align: top;\n",
       "    }\n",
       "\n",
       "    .dataframe thead th {\n",
       "        text-align: right;\n",
       "    }\n",
       "</style>\n",
       "<table border=\"1\" class=\"dataframe\">\n",
       "  <thead>\n",
       "    <tr style=\"text-align: right;\">\n",
       "      <th></th>\n",
       "      <th>Title</th>\n",
       "      <th>mean_rating</th>\n",
       "      <th>rating_counts</th>\n",
       "      <th>userId</th>\n",
       "      <th>movieId</th>\n",
       "      <th>rating</th>\n",
       "      <th>num_user_rated</th>\n",
       "    </tr>\n",
       "  </thead>\n",
       "  <tbody>\n",
       "    <tr>\n",
       "      <th>0</th>\n",
       "      <td>10 Things I Hate About You</td>\n",
       "      <td>3.515108</td>\n",
       "      <td>14793</td>\n",
       "      <td>12</td>\n",
       "      <td>2572</td>\n",
       "      <td>4.0</td>\n",
       "      <td>126</td>\n",
       "    </tr>\n",
       "    <tr>\n",
       "      <th>1</th>\n",
       "      <td>American Beauty</td>\n",
       "      <td>4.130704</td>\n",
       "      <td>57879</td>\n",
       "      <td>12</td>\n",
       "      <td>2858</td>\n",
       "      <td>5.0</td>\n",
       "      <td>126</td>\n",
       "    </tr>\n",
       "    <tr>\n",
       "      <th>2</th>\n",
       "      <td>Anaconda</td>\n",
       "      <td>2.083743</td>\n",
       "      <td>6914</td>\n",
       "      <td>12</td>\n",
       "      <td>1499</td>\n",
       "      <td>1.0</td>\n",
       "      <td>126</td>\n",
       "    </tr>\n",
       "    <tr>\n",
       "      <th>3</th>\n",
       "      <td>Antz</td>\n",
       "      <td>3.249202</td>\n",
       "      <td>12526</td>\n",
       "      <td>12</td>\n",
       "      <td>2294</td>\n",
       "      <td>2.0</td>\n",
       "      <td>126</td>\n",
       "    </tr>\n",
       "    <tr>\n",
       "      <th>4</th>\n",
       "      <td>Apollo 13</td>\n",
       "      <td>3.884031</td>\n",
       "      <td>57416</td>\n",
       "      <td>12</td>\n",
       "      <td>150</td>\n",
       "      <td>5.0</td>\n",
       "      <td>126</td>\n",
       "    </tr>\n",
       "  </tbody>\n",
       "</table>\n",
       "</div>"
      ],
      "text/plain": [
       "                        Title  mean_rating  rating_counts  userId  movieId  \\\n",
       "0  10 Things I Hate About You     3.515108          14793      12     2572   \n",
       "1             American Beauty     4.130704          57879      12     2858   \n",
       "2                    Anaconda     2.083743           6914      12     1499   \n",
       "3                        Antz     3.249202          12526      12     2294   \n",
       "4                   Apollo 13     3.884031          57416      12      150   \n",
       "\n",
       "   rating  num_user_rated  \n",
       "0     4.0             126  \n",
       "1     5.0             126  \n",
       "2     1.0             126  \n",
       "3     2.0             126  \n",
       "4     5.0             126  "
      ]
     },
     "execution_count": 29,
     "metadata": {},
     "output_type": "execute_result"
    }
   ],
   "source": [
    "# Test join pop_movings and user count., The goal is to only include movies that have been rated > 10000\n",
    "# times in the end\n",
    "\n",
    "ratings_w_stats = pd.merge(pop_movies, reg_users, how = 'inner', on = 'userId')\n",
    "\n",
    "print(ratings_w_stats.shape)\n",
    "ratings_w_stats.head()"
   ]
  },
  {
   "cell_type": "code",
   "execution_count": 30,
   "metadata": {},
   "outputs": [
    {
     "name": "stdout",
     "output_type": "stream",
     "text": [
      "Number of users = 49215 and Number of movies = 921\n"
     ]
    }
   ],
   "source": [
    "num_users = ratings_w_stats.userId.unique().shape[0]\n",
    "num_movies = ratings_w_stats.movieId.unique().shape[0]\n",
    "print (f\"Number of users = {num_users} and Number of movies = {num_movies}\")"
   ]
  },
  {
   "cell_type": "code",
   "execution_count": 31,
   "metadata": {},
   "outputs": [
    {
     "name": "stdout",
     "output_type": "stream",
     "text": [
      "(4211100, 5)\n"
     ]
    },
    {
     "data": {
      "text/html": [
       "<div>\n",
       "<style scoped>\n",
       "    .dataframe tbody tr th:only-of-type {\n",
       "        vertical-align: middle;\n",
       "    }\n",
       "\n",
       "    .dataframe tbody tr th {\n",
       "        vertical-align: top;\n",
       "    }\n",
       "\n",
       "    .dataframe thead th {\n",
       "        text-align: right;\n",
       "    }\n",
       "</style>\n",
       "<table border=\"1\" class=\"dataframe\">\n",
       "  <thead>\n",
       "    <tr style=\"text-align: right;\">\n",
       "      <th></th>\n",
       "      <th>userId</th>\n",
       "      <th>num_user_rated</th>\n",
       "      <th>movieId</th>\n",
       "      <th>Title</th>\n",
       "      <th>rating</th>\n",
       "    </tr>\n",
       "  </thead>\n",
       "  <tbody>\n",
       "    <tr>\n",
       "      <th>0</th>\n",
       "      <td>33455</td>\n",
       "      <td>150</td>\n",
       "      <td>110</td>\n",
       "      <td>Braveheart</td>\n",
       "      <td>5.0</td>\n",
       "    </tr>\n",
       "    <tr>\n",
       "      <th>1</th>\n",
       "      <td>33455</td>\n",
       "      <td>150</td>\n",
       "      <td>2959</td>\n",
       "      <td>Fight Club</td>\n",
       "      <td>4.5</td>\n",
       "    </tr>\n",
       "    <tr>\n",
       "      <th>2</th>\n",
       "      <td>33455</td>\n",
       "      <td>150</td>\n",
       "      <td>4226</td>\n",
       "      <td>Memento</td>\n",
       "      <td>4.5</td>\n",
       "    </tr>\n",
       "    <tr>\n",
       "      <th>3</th>\n",
       "      <td>33455</td>\n",
       "      <td>150</td>\n",
       "      <td>4878</td>\n",
       "      <td>Donnie Darko</td>\n",
       "      <td>4.5</td>\n",
       "    </tr>\n",
       "    <tr>\n",
       "      <th>4</th>\n",
       "      <td>33455</td>\n",
       "      <td>150</td>\n",
       "      <td>5577</td>\n",
       "      <td>Igby Goes Down</td>\n",
       "      <td>4.0</td>\n",
       "    </tr>\n",
       "  </tbody>\n",
       "</table>\n",
       "</div>"
      ],
      "text/plain": [
       "   userId  num_user_rated  movieId           Title  rating\n",
       "0   33455             150      110      Braveheart     5.0\n",
       "1   33455             150     2959      Fight Club     4.5\n",
       "2   33455             150     4226         Memento     4.5\n",
       "3   33455             150     4878    Donnie Darko     4.5\n",
       "4   33455             150     5577  Igby Goes Down     4.0"
      ]
     },
     "execution_count": 31,
     "metadata": {},
     "output_type": "execute_result"
    }
   ],
   "source": [
    "# join reg_users to new_ratings on userId. This will result in only the movies rated by our sub-group\n",
    "\n",
    "ratings_sml = pd.merge(reg_users, new_ratings, how = 'inner', on = 'userId')\n",
    "\n",
    "print(ratings_sml.shape)\n",
    "ratings_sml.head()"
   ]
  },
  {
   "cell_type": "code",
   "execution_count": 41,
   "metadata": {},
   "outputs": [],
   "source": [
    "#export ratings_sml\n",
    "\n",
    "ratings_sml.to_csv('Data/ratings_sml.csv', index=False)"
   ]
  },
  {
   "cell_type": "code",
   "execution_count": 32,
   "metadata": {},
   "outputs": [
    {
     "name": "stdout",
     "output_type": "stream",
     "text": [
      "Number of users = 49216 and Number of movies = 12008\n"
     ]
    }
   ],
   "source": [
    "n_users = ratings_sml.userId.unique().shape[0]\n",
    "n_movies = ratings_sml.movieId.unique().shape[0]\n",
    "print (f\"Number of users = {n_users} and Number of movies = {n_movies}\")"
   ]
  },
  {
   "cell_type": "code",
   "execution_count": 33,
   "metadata": {},
   "outputs": [
    {
     "data": {
      "text/plain": [
       "Index(['movieId', 'genres', 'Title_x', 'year', 'Genre', 'Actors', 'Director',\n",
       "       'Plot', 'Poster', 'userId', 'num_user_rated', 'Title_y', 'rating'],\n",
       "      dtype='object')"
      ]
     },
     "execution_count": 33,
     "metadata": {},
     "output_type": "execute_result"
    }
   ],
   "source": [
    "# To ensure that our content system is pulling from the same group of movies,\n",
    "# we are going to filter our movies dataframe to only display movies rated in ratings sml.\n",
    "\n",
    "movies_sml = pd.merge(movies, ratings_sml, how = 'inner', on = 'movieId')\n",
    "\n",
    "movies_sml.columns"
   ]
  },
  {
   "cell_type": "code",
   "execution_count": 34,
   "metadata": {},
   "outputs": [
    {
     "name": "stdout",
     "output_type": "stream",
     "text": [
      "(12008, 7)\n"
     ]
    }
   ],
   "source": [
    "# get only the unique movies\n",
    "\n",
    "movies_sml = movies_sml[['movieId','Title_x','genres','Actors', 'Director', 'Plot', 'Poster' ]]\n",
    "\n",
    "movies_sml = movies_sml.rename(columns = {'Title_x': 'Title'})\n",
    "\n",
    "# drop duplicates\n",
    "\n",
    "movies_sml.drop_duplicates(subset =\"movieId\", \n",
    "                     keep = 'first', inplace = True) \n",
    "\n",
    "print(movies_sml.shape)\n",
    "\n"
   ]
  },
  {
   "cell_type": "code",
   "execution_count": 106,
   "metadata": {},
   "outputs": [],
   "source": [
    "# export to csv\n",
    "\n",
    "movies_sml.to_csv('Data/movies_sml.csv', index=False)"
   ]
  },
  {
   "cell_type": "markdown",
   "metadata": {},
   "source": [
    "###### SVD Model"
   ]
  },
  {
   "cell_type": "code",
   "execution_count": 35,
   "metadata": {},
   "outputs": [],
   "source": [
    "# KNN Model\n",
    "from scipy.sparse import csr_matrix\n",
    "\n",
    "\n",
    "# pivot ratings into movie features\n",
    "ratings_matrix = ratings_sml.pivot(\n",
    "    index='userId',\n",
    "    columns='movieId',\n",
    "    values='rating'\n",
    ").fillna(0)"
   ]
  },
  {
   "cell_type": "code",
   "execution_count": 36,
   "metadata": {},
   "outputs": [
    {
     "data": {
      "text/html": [
       "<div>\n",
       "<style scoped>\n",
       "    .dataframe tbody tr th:only-of-type {\n",
       "        vertical-align: middle;\n",
       "    }\n",
       "\n",
       "    .dataframe tbody tr th {\n",
       "        vertical-align: top;\n",
       "    }\n",
       "\n",
       "    .dataframe thead th {\n",
       "        text-align: right;\n",
       "    }\n",
       "</style>\n",
       "<table border=\"1\" class=\"dataframe\">\n",
       "  <thead>\n",
       "    <tr style=\"text-align: right;\">\n",
       "      <th>movieId</th>\n",
       "      <th>1</th>\n",
       "      <th>2</th>\n",
       "      <th>3</th>\n",
       "      <th>4</th>\n",
       "      <th>5</th>\n",
       "      <th>6</th>\n",
       "      <th>7</th>\n",
       "      <th>8</th>\n",
       "      <th>9</th>\n",
       "      <th>10</th>\n",
       "      <th>...</th>\n",
       "      <th>175993</th>\n",
       "      <th>175995</th>\n",
       "      <th>175999</th>\n",
       "      <th>176001</th>\n",
       "      <th>176003</th>\n",
       "      <th>176007</th>\n",
       "      <th>176075</th>\n",
       "      <th>176157</th>\n",
       "      <th>176211</th>\n",
       "      <th>176271</th>\n",
       "    </tr>\n",
       "    <tr>\n",
       "      <th>userId</th>\n",
       "      <th></th>\n",
       "      <th></th>\n",
       "      <th></th>\n",
       "      <th></th>\n",
       "      <th></th>\n",
       "      <th></th>\n",
       "      <th></th>\n",
       "      <th></th>\n",
       "      <th></th>\n",
       "      <th></th>\n",
       "      <th></th>\n",
       "      <th></th>\n",
       "      <th></th>\n",
       "      <th></th>\n",
       "      <th></th>\n",
       "      <th></th>\n",
       "      <th></th>\n",
       "      <th></th>\n",
       "      <th></th>\n",
       "      <th></th>\n",
       "      <th></th>\n",
       "    </tr>\n",
       "  </thead>\n",
       "  <tbody>\n",
       "    <tr>\n",
       "      <th>9</th>\n",
       "      <td>4.5</td>\n",
       "      <td>0.0</td>\n",
       "      <td>0.0</td>\n",
       "      <td>0.0</td>\n",
       "      <td>0.0</td>\n",
       "      <td>0.0</td>\n",
       "      <td>0.0</td>\n",
       "      <td>0.0</td>\n",
       "      <td>0.0</td>\n",
       "      <td>0.0</td>\n",
       "      <td>...</td>\n",
       "      <td>0.0</td>\n",
       "      <td>0.0</td>\n",
       "      <td>0.0</td>\n",
       "      <td>0.0</td>\n",
       "      <td>0.0</td>\n",
       "      <td>0.0</td>\n",
       "      <td>0.0</td>\n",
       "      <td>0.0</td>\n",
       "      <td>0.0</td>\n",
       "      <td>0.0</td>\n",
       "    </tr>\n",
       "    <tr>\n",
       "      <th>12</th>\n",
       "      <td>4.0</td>\n",
       "      <td>0.0</td>\n",
       "      <td>0.0</td>\n",
       "      <td>0.0</td>\n",
       "      <td>0.0</td>\n",
       "      <td>0.0</td>\n",
       "      <td>0.0</td>\n",
       "      <td>0.0</td>\n",
       "      <td>0.0</td>\n",
       "      <td>0.0</td>\n",
       "      <td>...</td>\n",
       "      <td>0.0</td>\n",
       "      <td>0.0</td>\n",
       "      <td>0.0</td>\n",
       "      <td>0.0</td>\n",
       "      <td>0.0</td>\n",
       "      <td>0.0</td>\n",
       "      <td>0.0</td>\n",
       "      <td>0.0</td>\n",
       "      <td>0.0</td>\n",
       "      <td>0.0</td>\n",
       "    </tr>\n",
       "    <tr>\n",
       "      <th>15</th>\n",
       "      <td>0.0</td>\n",
       "      <td>0.0</td>\n",
       "      <td>0.0</td>\n",
       "      <td>0.0</td>\n",
       "      <td>0.0</td>\n",
       "      <td>4.0</td>\n",
       "      <td>0.0</td>\n",
       "      <td>0.0</td>\n",
       "      <td>0.0</td>\n",
       "      <td>0.0</td>\n",
       "      <td>...</td>\n",
       "      <td>0.0</td>\n",
       "      <td>0.0</td>\n",
       "      <td>0.0</td>\n",
       "      <td>0.0</td>\n",
       "      <td>0.0</td>\n",
       "      <td>0.0</td>\n",
       "      <td>0.0</td>\n",
       "      <td>0.0</td>\n",
       "      <td>0.0</td>\n",
       "      <td>0.0</td>\n",
       "    </tr>\n",
       "    <tr>\n",
       "      <th>16</th>\n",
       "      <td>0.0</td>\n",
       "      <td>0.0</td>\n",
       "      <td>0.0</td>\n",
       "      <td>0.0</td>\n",
       "      <td>0.0</td>\n",
       "      <td>0.0</td>\n",
       "      <td>0.0</td>\n",
       "      <td>0.0</td>\n",
       "      <td>0.0</td>\n",
       "      <td>0.0</td>\n",
       "      <td>...</td>\n",
       "      <td>0.0</td>\n",
       "      <td>0.0</td>\n",
       "      <td>0.0</td>\n",
       "      <td>0.0</td>\n",
       "      <td>0.0</td>\n",
       "      <td>0.0</td>\n",
       "      <td>0.0</td>\n",
       "      <td>0.0</td>\n",
       "      <td>0.0</td>\n",
       "      <td>0.0</td>\n",
       "    </tr>\n",
       "    <tr>\n",
       "      <th>30</th>\n",
       "      <td>0.0</td>\n",
       "      <td>0.0</td>\n",
       "      <td>0.0</td>\n",
       "      <td>0.0</td>\n",
       "      <td>0.0</td>\n",
       "      <td>0.0</td>\n",
       "      <td>0.0</td>\n",
       "      <td>0.0</td>\n",
       "      <td>0.0</td>\n",
       "      <td>0.0</td>\n",
       "      <td>...</td>\n",
       "      <td>0.0</td>\n",
       "      <td>0.0</td>\n",
       "      <td>0.0</td>\n",
       "      <td>0.0</td>\n",
       "      <td>0.0</td>\n",
       "      <td>0.0</td>\n",
       "      <td>0.0</td>\n",
       "      <td>0.0</td>\n",
       "      <td>0.0</td>\n",
       "      <td>0.0</td>\n",
       "    </tr>\n",
       "  </tbody>\n",
       "</table>\n",
       "<p>5 rows × 12008 columns</p>\n",
       "</div>"
      ],
      "text/plain": [
       "movieId  1       2       3       4       5       6       7       8       \\\n",
       "userId                                                                    \n",
       "9           4.5     0.0     0.0     0.0     0.0     0.0     0.0     0.0   \n",
       "12          4.0     0.0     0.0     0.0     0.0     0.0     0.0     0.0   \n",
       "15          0.0     0.0     0.0     0.0     0.0     4.0     0.0     0.0   \n",
       "16          0.0     0.0     0.0     0.0     0.0     0.0     0.0     0.0   \n",
       "30          0.0     0.0     0.0     0.0     0.0     0.0     0.0     0.0   \n",
       "\n",
       "movieId  9       10       ...    175993  175995  175999  176001  176003  \\\n",
       "userId                    ...                                             \n",
       "9           0.0     0.0   ...       0.0     0.0     0.0     0.0     0.0   \n",
       "12          0.0     0.0   ...       0.0     0.0     0.0     0.0     0.0   \n",
       "15          0.0     0.0   ...       0.0     0.0     0.0     0.0     0.0   \n",
       "16          0.0     0.0   ...       0.0     0.0     0.0     0.0     0.0   \n",
       "30          0.0     0.0   ...       0.0     0.0     0.0     0.0     0.0   \n",
       "\n",
       "movieId  176007  176075  176157  176211  176271  \n",
       "userId                                           \n",
       "9           0.0     0.0     0.0     0.0     0.0  \n",
       "12          0.0     0.0     0.0     0.0     0.0  \n",
       "15          0.0     0.0     0.0     0.0     0.0  \n",
       "16          0.0     0.0     0.0     0.0     0.0  \n",
       "30          0.0     0.0     0.0     0.0     0.0  \n",
       "\n",
       "[5 rows x 12008 columns]"
      ]
     },
     "execution_count": 36,
     "metadata": {},
     "output_type": "execute_result"
    }
   ],
   "source": [
    "ratings_matrix.head()"
   ]
  },
  {
   "cell_type": "code",
   "execution_count": 44,
   "metadata": {},
   "outputs": [],
   "source": [
    "#testing pickling of ratings matrix\n",
    "\n",
    "ratings_matrix.to_pickle(\"Data/test_matrix.pkl\")"
   ]
  },
  {
   "cell_type": "code",
   "execution_count": 37,
   "metadata": {},
   "outputs": [],
   "source": [
    "# normalize the data by each users mean and convert it from a dataframe to a numpy array.\n",
    "\n",
    "R = ratings_matrix.values\n",
    "user_ratings_mean = np.mean(R, axis = 1)\n",
    "Ratings_demeaned = R - user_ratings_mean.reshape(-1, 1)"
   ]
  },
  {
   "cell_type": "code",
   "execution_count": 38,
   "metadata": {},
   "outputs": [],
   "source": [
    "# Compute the largest k singular values/vectors for a sparse matrix\n",
    "\n",
    "from scipy.sparse.linalg import svds\n",
    "\n",
    "U, sigma, Vt = svds(Ratings_demeaned, k = 50)"
   ]
  },
  {
   "cell_type": "code",
   "execution_count": 39,
   "metadata": {},
   "outputs": [],
   "source": [
    "# convert sigma to a diagonal matrix\n",
    "\n",
    "sigma = np.diag(sigma)"
   ]
  },
  {
   "cell_type": "code",
   "execution_count": 40,
   "metadata": {},
   "outputs": [
    {
     "data": {
      "text/plain": [
       "['Data/sigma.pkl']"
      ]
     },
     "execution_count": 40,
     "metadata": {},
     "output_type": "execute_result"
    }
   ],
   "source": [
    "# pickle other variables\n",
    "\n",
    "joblib.dump(U, 'Data/U.pkl')\n",
    "joblib.dump(Vt, 'Data/Vt.pkl')\n",
    "joblib.dump(sigma, 'Data/sigma.pkl')"
   ]
  },
  {
   "cell_type": "code",
   "execution_count": 40,
   "metadata": {},
   "outputs": [],
   "source": [
    "# calculate the dot product of our vectors\n",
    "all_user_predicted_ratings = np.dot(np.dot(U, sigma), Vt) + user_ratings_mean.reshape(-1, 1)"
   ]
  },
  {
   "cell_type": "code",
   "execution_count": 42,
   "metadata": {},
   "outputs": [
    {
     "data": {
      "text/html": [
       "<div>\n",
       "<style scoped>\n",
       "    .dataframe tbody tr th:only-of-type {\n",
       "        vertical-align: middle;\n",
       "    }\n",
       "\n",
       "    .dataframe tbody tr th {\n",
       "        vertical-align: top;\n",
       "    }\n",
       "\n",
       "    .dataframe thead th {\n",
       "        text-align: right;\n",
       "    }\n",
       "</style>\n",
       "<table border=\"1\" class=\"dataframe\">\n",
       "  <thead>\n",
       "    <tr style=\"text-align: right;\">\n",
       "      <th>movieId</th>\n",
       "      <th>1</th>\n",
       "      <th>2</th>\n",
       "      <th>3</th>\n",
       "      <th>4</th>\n",
       "      <th>5</th>\n",
       "      <th>6</th>\n",
       "      <th>7</th>\n",
       "      <th>8</th>\n",
       "      <th>9</th>\n",
       "      <th>10</th>\n",
       "      <th>...</th>\n",
       "      <th>175993</th>\n",
       "      <th>175995</th>\n",
       "      <th>175999</th>\n",
       "      <th>176001</th>\n",
       "      <th>176003</th>\n",
       "      <th>176007</th>\n",
       "      <th>176075</th>\n",
       "      <th>176157</th>\n",
       "      <th>176211</th>\n",
       "      <th>176271</th>\n",
       "    </tr>\n",
       "  </thead>\n",
       "  <tbody>\n",
       "    <tr>\n",
       "      <th>0</th>\n",
       "      <td>4.043145</td>\n",
       "      <td>-0.031401</td>\n",
       "      <td>-0.109841</td>\n",
       "      <td>-0.040066</td>\n",
       "      <td>-0.007383</td>\n",
       "      <td>-0.362918</td>\n",
       "      <td>0.138744</td>\n",
       "      <td>-0.059072</td>\n",
       "      <td>0.099973</td>\n",
       "      <td>0.204405</td>\n",
       "      <td>...</td>\n",
       "      <td>-0.002675</td>\n",
       "      <td>-0.002703</td>\n",
       "      <td>-0.002703</td>\n",
       "      <td>-0.002703</td>\n",
       "      <td>-0.002732</td>\n",
       "      <td>-0.002617</td>\n",
       "      <td>-0.002744</td>\n",
       "      <td>-0.003168</td>\n",
       "      <td>-0.003729</td>\n",
       "      <td>-0.003049</td>\n",
       "    </tr>\n",
       "    <tr>\n",
       "      <th>1</th>\n",
       "      <td>2.967341</td>\n",
       "      <td>0.112618</td>\n",
       "      <td>-0.650235</td>\n",
       "      <td>0.084441</td>\n",
       "      <td>-0.542322</td>\n",
       "      <td>0.190666</td>\n",
       "      <td>-0.334271</td>\n",
       "      <td>-0.013707</td>\n",
       "      <td>-0.149256</td>\n",
       "      <td>0.302472</td>\n",
       "      <td>...</td>\n",
       "      <td>0.001898</td>\n",
       "      <td>0.001875</td>\n",
       "      <td>0.001875</td>\n",
       "      <td>0.001875</td>\n",
       "      <td>0.001851</td>\n",
       "      <td>0.001945</td>\n",
       "      <td>0.002245</td>\n",
       "      <td>0.001783</td>\n",
       "      <td>0.003136</td>\n",
       "      <td>0.002110</td>\n",
       "    </tr>\n",
       "    <tr>\n",
       "      <th>2</th>\n",
       "      <td>0.355257</td>\n",
       "      <td>-0.414077</td>\n",
       "      <td>0.207500</td>\n",
       "      <td>-0.050163</td>\n",
       "      <td>0.178221</td>\n",
       "      <td>2.574964</td>\n",
       "      <td>0.237428</td>\n",
       "      <td>-0.055524</td>\n",
       "      <td>0.136858</td>\n",
       "      <td>0.469555</td>\n",
       "      <td>...</td>\n",
       "      <td>-0.000418</td>\n",
       "      <td>-0.000219</td>\n",
       "      <td>-0.000219</td>\n",
       "      <td>-0.000219</td>\n",
       "      <td>-0.000020</td>\n",
       "      <td>-0.000816</td>\n",
       "      <td>-0.000617</td>\n",
       "      <td>-0.000151</td>\n",
       "      <td>-0.001692</td>\n",
       "      <td>-0.000792</td>\n",
       "    </tr>\n",
       "    <tr>\n",
       "      <th>3</th>\n",
       "      <td>-0.215976</td>\n",
       "      <td>-0.141312</td>\n",
       "      <td>-0.218790</td>\n",
       "      <td>0.037475</td>\n",
       "      <td>-0.053217</td>\n",
       "      <td>0.369246</td>\n",
       "      <td>-0.140024</td>\n",
       "      <td>-0.031138</td>\n",
       "      <td>-0.099683</td>\n",
       "      <td>-0.607257</td>\n",
       "      <td>...</td>\n",
       "      <td>0.006418</td>\n",
       "      <td>0.006385</td>\n",
       "      <td>0.006385</td>\n",
       "      <td>0.006385</td>\n",
       "      <td>0.006352</td>\n",
       "      <td>0.006485</td>\n",
       "      <td>0.006283</td>\n",
       "      <td>0.007180</td>\n",
       "      <td>0.004884</td>\n",
       "      <td>0.005402</td>\n",
       "    </tr>\n",
       "    <tr>\n",
       "      <th>4</th>\n",
       "      <td>1.542347</td>\n",
       "      <td>0.393789</td>\n",
       "      <td>-0.016029</td>\n",
       "      <td>0.048731</td>\n",
       "      <td>-0.132489</td>\n",
       "      <td>0.158159</td>\n",
       "      <td>-0.108102</td>\n",
       "      <td>0.055406</td>\n",
       "      <td>-0.064908</td>\n",
       "      <td>0.346607</td>\n",
       "      <td>...</td>\n",
       "      <td>0.000917</td>\n",
       "      <td>0.001000</td>\n",
       "      <td>0.001000</td>\n",
       "      <td>0.001000</td>\n",
       "      <td>0.001083</td>\n",
       "      <td>0.000750</td>\n",
       "      <td>0.001514</td>\n",
       "      <td>0.000832</td>\n",
       "      <td>0.001296</td>\n",
       "      <td>0.000532</td>\n",
       "    </tr>\n",
       "  </tbody>\n",
       "</table>\n",
       "<p>5 rows × 12008 columns</p>\n",
       "</div>"
      ],
      "text/plain": [
       "movieId    1         2         3         4         5         6         7       \\\n",
       "0        4.043145 -0.031401 -0.109841 -0.040066 -0.007383 -0.362918  0.138744   \n",
       "1        2.967341  0.112618 -0.650235  0.084441 -0.542322  0.190666 -0.334271   \n",
       "2        0.355257 -0.414077  0.207500 -0.050163  0.178221  2.574964  0.237428   \n",
       "3       -0.215976 -0.141312 -0.218790  0.037475 -0.053217  0.369246 -0.140024   \n",
       "4        1.542347  0.393789 -0.016029  0.048731 -0.132489  0.158159 -0.108102   \n",
       "\n",
       "movieId    8         9         10        ...       175993    175995    175999  \\\n",
       "0       -0.059072  0.099973  0.204405    ...    -0.002675 -0.002703 -0.002703   \n",
       "1       -0.013707 -0.149256  0.302472    ...     0.001898  0.001875  0.001875   \n",
       "2       -0.055524  0.136858  0.469555    ...    -0.000418 -0.000219 -0.000219   \n",
       "3       -0.031138 -0.099683 -0.607257    ...     0.006418  0.006385  0.006385   \n",
       "4        0.055406 -0.064908  0.346607    ...     0.000917  0.001000  0.001000   \n",
       "\n",
       "movieId    176001    176003    176007    176075    176157    176211    176271  \n",
       "0       -0.002703 -0.002732 -0.002617 -0.002744 -0.003168 -0.003729 -0.003049  \n",
       "1        0.001875  0.001851  0.001945  0.002245  0.001783  0.003136  0.002110  \n",
       "2       -0.000219 -0.000020 -0.000816 -0.000617 -0.000151 -0.001692 -0.000792  \n",
       "3        0.006385  0.006352  0.006485  0.006283  0.007180  0.004884  0.005402  \n",
       "4        0.001000  0.001083  0.000750  0.001514  0.000832  0.001296  0.000532  \n",
       "\n",
       "[5 rows x 12008 columns]"
      ]
     },
     "execution_count": 42,
     "metadata": {},
     "output_type": "execute_result"
    }
   ],
   "source": [
    "preds = pd.DataFrame(all_user_predicted_ratings, columns = ratings_matrix.columns)\n",
    "preds.head()"
   ]
  },
  {
   "cell_type": "code",
   "execution_count": null,
   "metadata": {},
   "outputs": [],
   "source": []
  },
  {
   "cell_type": "code",
   "execution_count": 85,
   "metadata": {},
   "outputs": [],
   "source": [
    "def recommend_movies(predictions, userId, movies, original_ratings, num_recommendations):\n",
    "    \n",
    "    # Get and sort the user's predictions\n",
    "    user_row_number = userId - 1 # User ID starts at 1, not 0\n",
    "    sorted_user_predictions = preds.iloc[user_row_number].sort_values(ascending=False) # User ID starts at 1\n",
    "    \n",
    "    # Get the user's data and merge in the movie information.\n",
    "    user_data = original_ratings[original_ratings.userId == (userId)]\n",
    "    user_full = (user_data.merge(movies, how = 'left', left_on = 'movieId', right_on = 'movieId').\n",
    "                     sort_values(['rating'], ascending=False)\n",
    "                 )\n",
    "\n",
    "#     print (f\"User {0} has already rated {1} movies. format(userID, user_full.shape[0]\")\n",
    "#     print 'Recommending highest {0} predicted ratings movies not already rated.'.format(num_recommendations)\n",
    "    \n",
    "    # Recommend the highest predicted rating movies that the user hasn't seen yet.\n",
    "    recommendations = (movies[~movies['movieId'].isin(user_full['movieId'])].\n",
    "         merge(pd.DataFrame(sorted_user_predictions).reset_index(), how = 'left',\n",
    "               left_on = 'movieId',\n",
    "               right_on = 'movieId').\n",
    "         rename(columns = {user_row_number: 'Predictions'}).\n",
    "         sort_values('Predictions', ascending = False).\n",
    "                       iloc[:num_recommendations, :-1]\n",
    "                      )\n",
    "    rec_movies = recommendations['Title']\n",
    "    already_rated = user_full['Title_x']\n",
    "    return  already_rated, rec_movies"
   ]
  },
  {
   "cell_type": "code",
   "execution_count": 86,
   "metadata": {},
   "outputs": [],
   "source": [
    "already_rated, predictions = recommend_movies(preds, 33455, movies, ratings_sml, 20)"
   ]
  },
  {
   "cell_type": "code",
   "execution_count": 88,
   "metadata": {},
   "outputs": [
    {
     "data": {
      "text/plain": [
       "3551                                         Finding Nemo\n",
       "3618    Pirates of the Caribbean: The Curse of the Bla...\n",
       "4314             Harry Potter and the Prisoner of Azkaban\n",
       "1951                                          Toy Story 2\n",
       "2833                Harry Potter and the Sorcerer's Stone\n",
       "3254              Harry Potter and the Chamber of Secrets\n",
       "3729                                  Lost in Translation\n",
       "4078                Eternal Sunshine of the Spotless Mind\n",
       "3844                                        Love Actually\n",
       "1775                                         Ghostbusters\n",
       "4389                                         Spider-Man 2\n",
       "2531                                Bridget Jones's Diary\n",
       "3527                                     X2: X-Men United\n",
       "3957                                             Big Fish\n",
       "5361         Star Wars: Episode III - Revenge of the Sith\n",
       "1606                                  Shakespeare in Love\n",
       "2401                                             Chocolat\n",
       "2264                                          Chicken Run\n",
       "5641                  Harry Potter and the Goblet of Fire\n",
       "2128                                        High Fidelity\n",
       "Name: Title, dtype: object"
      ]
     },
     "execution_count": 88,
     "metadata": {},
     "output_type": "execute_result"
    }
   ],
   "source": [
    "predictions"
   ]
  },
  {
   "cell_type": "code",
   "execution_count": 87,
   "metadata": {},
   "outputs": [
    {
     "data": {
      "text/plain": [
       "0                        Braveheart\n",
       "55        In the Name of the Father\n",
       "63                      Sling Blade\n",
       "61                         Swingers\n",
       "60                    Trainspotting\n",
       "59                            Fargo\n",
       "57                     True Romance\n",
       "56      Searching for Bobby Fischer\n",
       "54      What's Eating Gilbert Grape\n",
       "66                      Chasing Amy\n",
       "53                 Dead Man Walking\n",
       "50              Saving Private Ryan\n",
       "49     There's Something About Mary\n",
       "48                          Titanic\n",
       "45                   Reservoir Dogs\n",
       "44                     Forrest Gump\n",
       "65                          Contact\n",
       "67                Good Will Hunting\n",
       "36                  Minority Report\n",
       "112                       Footloose\n",
       "139             Murder in the First\n",
       "135                     Simon Birch\n",
       "131               Road to Perdition\n",
       "130                     About a Boy\n",
       "124                        Sleepers\n",
       "114     Four Weddings and a Funeral\n",
       "108                         Traffic\n",
       "76                     Office Space\n",
       "105                          Misery\n",
       "100                      Awakenings\n",
       "                   ...             \n",
       "72                               Go\n",
       "84                    Almost Famous\n",
       "30                        Apollo 13\n",
       "82                          Shrek 2\n",
       "83                      Three Kings\n",
       "69              Edward Scissorhands\n",
       "134                        Cocktail\n",
       "58       Terminator 2: Judgment Day\n",
       "42               Dances with Wolves\n",
       "25                          Tin Cup\n",
       "51                     Mystic River\n",
       "123                        Mallrats\n",
       "149                        Blue Car\n",
       "107                         28 Days\n",
       "79                     Pretty Woman\n",
       "80                         Clueless\n",
       "117           America's Sweethearts\n",
       "115        My Best Friend's Wedding\n",
       "7                             Speed\n",
       "113            Natural Born Killers\n",
       "12                 Cruel Intentions\n",
       "103                   Wayne's World\n",
       "85                       Get Shorty\n",
       "9                            Clerks\n",
       "99                     Happy, Texas\n",
       "141                         Freeway\n",
       "111                              54\n",
       "121                      Free Willy\n",
       "110                  American Movie\n",
       "132                Knockaround Guys\n",
       "Name: Title_x, Length: 150, dtype: object"
      ]
     },
     "execution_count": 87,
     "metadata": {},
     "output_type": "execute_result"
    }
   ],
   "source": [
    "already_rated"
   ]
  },
  {
   "cell_type": "markdown",
   "metadata": {},
   "source": [
    "#### Store Prediction Results in MongoDB\n",
    "\n"
   ]
  },
  {
   "cell_type": "code",
   "execution_count": null,
   "metadata": {},
   "outputs": [],
   "source": []
  },
  {
   "cell_type": "code",
   "execution_count": null,
   "metadata": {},
   "outputs": [],
   "source": []
  }
 ],
 "metadata": {
  "kernelspec": {
   "display_name": "Python 3",
   "language": "python",
   "name": "python3"
  },
  "language_info": {
   "codemirror_mode": {
    "name": "ipython",
    "version": 3
   },
   "file_extension": ".py",
   "mimetype": "text/x-python",
   "name": "python",
   "nbconvert_exporter": "python",
   "pygments_lexer": "ipython3",
   "version": "3.6.8"
  }
 },
 "nbformat": 4,
 "nbformat_minor": 2
}
