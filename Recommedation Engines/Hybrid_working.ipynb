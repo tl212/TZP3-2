{
 "cells": [
  {
   "cell_type": "markdown",
   "metadata": {},
   "source": [
    "## TOM, \n",
    "\n",
    "I got it to work. The first 5 cells are needed and then everything after Combined Systems. Naturally you can remove everything used to view the results"
   ]
  },
  {
   "cell_type": "code",
   "execution_count": 1,
   "metadata": {},
   "outputs": [],
   "source": [
    "import pandas as pd\n",
    "import numpy as np"
   ]
  },
  {
   "cell_type": "code",
   "execution_count": 2,
   "metadata": {},
   "outputs": [],
   "source": [
    "#load movies and ratings\n",
    "movies = pd.read_csv('Data/movies_sml.csv')\n",
    "ratings = pd.read_csv('Data/ratings_sml.csv')\n"
   ]
  },
  {
   "cell_type": "code",
   "execution_count": 3,
   "metadata": {},
   "outputs": [],
   "source": [
    "# load movies with bag of words. Needed for content filtering\n",
    "movies_bow = pd.read_csv('Data/movies_bow.csv')\n"
   ]
  },
  {
   "cell_type": "code",
   "execution_count": 4,
   "metadata": {},
   "outputs": [],
   "source": [
    "#load ratings matrix.Needed for Collaborative filtering\n",
    "ratings_matrix = pd.read_hdf('Data/ratings_mx.h5')\n"
   ]
  },
  {
   "cell_type": "code",
   "execution_count": 5,
   "metadata": {},
   "outputs": [],
   "source": [
    "# load predictions\n",
    "preds = pd.read_hdf('Data/preds_hdf2.h5')"
   ]
  },
  {
   "cell_type": "markdown",
   "metadata": {},
   "source": [
    "###### test collab system first to see if any additional files are needed"
   ]
  },
  {
   "cell_type": "code",
   "execution_count": 6,
   "metadata": {},
   "outputs": [],
   "source": [
    "def recommend_movies(predictions, userId, movies, original_ratings, num_recommendations):\n",
    "    \n",
    "    # Get and sort the user's predictions\n",
    "    user_row_number = userId - 1 # User ID starts at 1, not 0\n",
    "    sorted_user_predictions = preds.iloc[user_row_number].sort_values(ascending=False) # User ID starts at 1\n",
    "    \n",
    "    # Get the user's data and merge in the movie information.\n",
    "    user_data = original_ratings[original_ratings.userId == (userId)]\n",
    "    user_full = (user_data.merge(movies, how = 'left', left_on = 'movieId', right_on = 'movieId').\n",
    "                     sort_values(['rating'], ascending=False)\n",
    "                 )\n",
    "\n",
    "#     print (f\"User {0} has already rated {1} movies. format(userID, user_full.shape[0]\")\n",
    "#     print 'Recommending highest {0} predicted ratings movies not already rated.'.format(num_recommendations)\n",
    "    \n",
    "    # Recommend the highest predicted rating movies that the user hasn't seen yet.\n",
    "    recommendations = (movies[~movies['movieId'].isin(user_full['movieId'])].\n",
    "         merge(pd.DataFrame(sorted_user_predictions).reset_index(), how = 'left',\n",
    "               left_on = 'movieId',\n",
    "               right_on = 'movieId').\n",
    "         rename(columns = {user_row_number: 'Predictions'}).\n",
    "         sort_values('Predictions', ascending = False).\n",
    "                       iloc[:num_recommendations, :-1]\n",
    "                      )\n",
    "    rec_movies = recommendations['Title']\n",
    "    already_rated = user_full['Title_x']\n",
    "    return  already_rated, rec_movies"
   ]
  },
  {
   "cell_type": "code",
   "execution_count": 7,
   "metadata": {},
   "outputs": [],
   "source": [
    "already_rated, predictions = recommend_movies(preds, 60, movies, ratings, 20)"
   ]
  },
  {
   "cell_type": "code",
   "execution_count": 8,
   "metadata": {},
   "outputs": [
    {
     "data": {
      "text/plain": [
       "423                       Schindler's List\n",
       "215     Star Wars: Episode IV - A New Hope\n",
       "293                           Forrest Gump\n",
       "102                             Braveheart\n",
       "6587                             Inception\n",
       "6003                                    Up\n",
       "5575                                WALL·E\n",
       "1420                     Life Is Beautiful\n",
       "1950                             Gladiator\n",
       "8495                          Interstellar\n",
       "249                 Léon: The Professional\n",
       "485                                  Fargo\n",
       "3110                          Finding Nemo\n",
       "7820                      Django Unchained\n",
       "8928                    The Imitation Game\n",
       "5957                  Inglourious Basterds\n",
       "5748                   Slumdog Millionaire\n",
       "5059                           Ratatouille\n",
       "2950                   Catch Me If You Can\n",
       "9237                            Inside Out\n",
       "Name: Title, dtype: object"
      ]
     },
     "execution_count": 8,
     "metadata": {},
     "output_type": "execute_result"
    }
   ],
   "source": [
    "predictions"
   ]
  },
  {
   "cell_type": "markdown",
   "metadata": {},
   "source": [
    "###### test content system first to see if any additional files are needed"
   ]
  },
  {
   "cell_type": "code",
   "execution_count": 9,
   "metadata": {},
   "outputs": [],
   "source": [
    "from sklearn.feature_extraction.text import CountVectorizer\n",
    "from sklearn.metrics.pairwise import cosine_similarity"
   ]
  },
  {
   "cell_type": "code",
   "execution_count": 10,
   "metadata": {},
   "outputs": [],
   "source": [
    "# Initializing and generating the count matrix \n",
    "\n",
    "count = CountVectorizer()\n",
    "count_matrix = count.fit_transform(movies_bow['bag_of_words'])"
   ]
  },
  {
   "cell_type": "code",
   "execution_count": 11,
   "metadata": {},
   "outputs": [],
   "source": [
    "# Generating the cosine similarity matrix\n",
    "\n",
    "cosine_sim = cosine_similarity(count_matrix, count_matrix)"
   ]
  },
  {
   "cell_type": "code",
   "execution_count": 12,
   "metadata": {},
   "outputs": [],
   "source": [
    "#map index to Title. This will be used in the function and is integral to \n",
    "# how we access the recommended movies\n",
    "\n",
    "indices = pd.Series(movies_bow.index, index = movies_bow['Title'])\n",
    "\n",
    "#Create recommendation function\n",
    "\n",
    "def get_recommendations(title, cosine_sim=cosine_sim):\n",
    "    # Get the index of the movie that matches the title\n",
    "    idx = indices[title]\n",
    "\n",
    "    # Get the pairwsie similarity scores of all movies with that movie\n",
    "    sim_scores = list(enumerate(cosine_sim[idx]))\n",
    "\n",
    "    # Sort the movies based on the similarity scores\n",
    "    sim_scores = sorted(sim_scores, key=lambda x: x[1], reverse=True)\n",
    "\n",
    "    # Get the scores of the 10 most similar movies\n",
    "    sim_scores = sim_scores[1:26]\n",
    "\n",
    "    # Get the movie indices\n",
    "    movie_indices = [i[0] for i in sim_scores]\n",
    "\n",
    "    # Return the top 10 most similar movies\n",
    "    return movies_bow['Title'].iloc[movie_indices]"
   ]
  },
  {
   "cell_type": "code",
   "execution_count": 13,
   "metadata": {},
   "outputs": [
    {
     "data": {
      "text/plain": [
       "11663                   Kung Fu Yoga\n",
       "4129                       Who Am I?\n",
       "3463                     Crime Story\n",
       "670                       Supercop 2\n",
       "690      Around the World in 80 Days\n",
       "691      Around the World in 80 Days\n",
       "1143                       Mr. Magoo\n",
       "1416                       Rush Hour\n",
       "1595                      Black Mask\n",
       "2008                   Shanghai Noon\n",
       "2440                     Rush Hour 2\n",
       "4071                     City Hunter\n",
       "4976                     Thunderbolt\n",
       "5320                     Rush Hour 3\n",
       "9890                    Dragon Blade\n",
       "11352                      Skiptrace\n",
       "11463                Railroad Tigers\n",
       "1226                    Mr. Nice Guy\n",
       "3052                Shanghai Knights\n",
       "4397                        Gorgeous\n",
       "4649                New Police Story\n",
       "6441               Shinjuku Incident\n",
       "6894              Little Big Soldier\n",
       "4974                    Swordsman II\n",
       "0                          Toy Story\n",
       "Name: Title, dtype: object"
      ]
     },
     "execution_count": 13,
     "metadata": {},
     "output_type": "execute_result"
    }
   ],
   "source": [
    "get_recommendations('Rumble in the Bronx')"
   ]
  },
  {
   "cell_type": "markdown",
   "metadata": {},
   "source": [
    "#### Combined Systems"
   ]
  },
  {
   "cell_type": "code",
   "execution_count": 14,
   "metadata": {},
   "outputs": [
    {
     "data": {
      "text/plain": [
       "Title\n",
       "Toy Story                                                       0\n",
       "Jumanji                                                         1\n",
       "Grumpier Old Men                                                2\n",
       "Waiting to Exhale                                               3\n",
       "Father of the Bride Part II                                     4\n",
       "Heat                                                            5\n",
       "Heat                                                            6\n",
       "Sabrina                                                         7\n",
       "Sabrina                                                         8\n",
       "Tom and Huck                                                    9\n",
       "Sudden Death                                                   10\n",
       "GoldenEye                                                      11\n",
       "Dracula: Dead and Loving It                                    12\n",
       "Balto                                                          13\n",
       "Nixon                                                          14\n",
       "Cutthroat Island                                               15\n",
       "Casino                                                         16\n",
       "Sense and Sensibility                                          17\n",
       "Four Rooms                                                     18\n",
       "Ace Ventura: When Nature Calls                                 19\n",
       "Money Train                                                    20\n",
       "Get Shorty                                                     21\n",
       "Copycat                                                        22\n",
       "Assassins                                                      23\n",
       "Powder                                                         24\n",
       "Leaving Las Vegas                                              25\n",
       "Othello                                                        26\n",
       "Othello                                                        27\n",
       "Now and Then                                                   28\n",
       "Persuasion                                                     29\n",
       "                                                            ...  \n",
       "Cru                                                         11978\n",
       "The Emoji Movie                                             11979\n",
       "The Saint                                                   11980\n",
       "Dragstrip Girl                                              11981\n",
       "Dying to Belong                                             11982\n",
       "Eating                                                      11983\n",
       "Getting Out                                                 11984\n",
       "Hit Me                                                      11985\n",
       "How to Be Louise                                            11986\n",
       "Aiyyaa                                                      11987\n",
       "The Nile Hilton Incident                                    11988\n",
       "Zygote                                                      11989\n",
       "Girls Trip                                                  11990\n",
       "Landline                                                    11991\n",
       "Rick and Morty: State of Georgia Vs. Denver Fenton Allen    11992\n",
       "A German Life                                               11993\n",
       "Cure for Pain: The Mark Sandman Story                       11994\n",
       "Ducoboo                                                     11995\n",
       "First Kill                                                  11996\n",
       "Descendants 2                                               11997\n",
       "Little Girls in Pretty Boxes                                11998\n",
       "Scribe                                                      11999\n",
       "Over/Under                                                  12000\n",
       "The Visitors: Bastille Day                                  12001\n",
       "Monster Ark                                                 12002\n",
       "High Plains Invaders                                        12003\n",
       "Headless Horseman                                           12004\n",
       "Kuka                                                        12005\n",
       "In a Heartbeat                                              12006\n",
       "Century of Birthing                                         12007\n",
       "Length: 12008, dtype: int64"
      ]
     },
     "execution_count": 14,
     "metadata": {},
     "output_type": "execute_result"
    }
   ],
   "source": [
    "#Content-based Recommendations Sections\n",
    "indices = pd.Series(movies_bow.index, index = movies_bow['Title'])\n",
    "\n",
    "indices"
   ]
  },
  {
   "cell_type": "code",
   "execution_count": 15,
   "metadata": {},
   "outputs": [],
   "source": [
    "idx = indices['Jumanji']"
   ]
  },
  {
   "cell_type": "code",
   "execution_count": 16,
   "metadata": {},
   "outputs": [],
   "source": [
    "sim_scores = list(enumerate(cosine_sim[idx]))"
   ]
  },
  {
   "cell_type": "code",
   "execution_count": 17,
   "metadata": {},
   "outputs": [],
   "source": [
    "sim_scores = sorted(sim_scores, key=lambda x: x[1], reverse=True)"
   ]
  },
  {
   "cell_type": "code",
   "execution_count": 18,
   "metadata": {},
   "outputs": [],
   "source": [
    "sim_scores = sim_scores[1:26]"
   ]
  },
  {
   "cell_type": "code",
   "execution_count": 19,
   "metadata": {},
   "outputs": [],
   "source": [
    "movie_indices = [i[0] for i in sim_scores]"
   ]
  },
  {
   "cell_type": "code",
   "execution_count": 20,
   "metadata": {},
   "outputs": [
    {
     "data": {
      "text/html": [
       "<div>\n",
       "<style scoped>\n",
       "    .dataframe tbody tr th:only-of-type {\n",
       "        vertical-align: middle;\n",
       "    }\n",
       "\n",
       "    .dataframe tbody tr th {\n",
       "        vertical-align: top;\n",
       "    }\n",
       "\n",
       "    .dataframe thead th {\n",
       "        text-align: right;\n",
       "    }\n",
       "</style>\n",
       "<table border=\"1\" class=\"dataframe\">\n",
       "  <thead>\n",
       "    <tr style=\"text-align: right;\">\n",
       "      <th></th>\n",
       "      <th>movieId</th>\n",
       "    </tr>\n",
       "  </thead>\n",
       "  <tbody>\n",
       "    <tr>\n",
       "      <th>120</th>\n",
       "      <td>137</td>\n",
       "    </tr>\n",
       "    <tr>\n",
       "      <th>121</th>\n",
       "      <td>48593</td>\n",
       "    </tr>\n",
       "    <tr>\n",
       "      <th>412</th>\n",
       "      <td>500</td>\n",
       "    </tr>\n",
       "    <tr>\n",
       "      <th>601</th>\n",
       "      <td>765</td>\n",
       "    </tr>\n",
       "    <tr>\n",
       "      <th>1120</th>\n",
       "      <td>1702</td>\n",
       "    </tr>\n",
       "    <tr>\n",
       "      <th>1409</th>\n",
       "      <td>2253</td>\n",
       "    </tr>\n",
       "    <tr>\n",
       "      <th>1430</th>\n",
       "      <td>2297</td>\n",
       "    </tr>\n",
       "    <tr>\n",
       "      <th>1483</th>\n",
       "      <td>2431</td>\n",
       "    </tr>\n",
       "    <tr>\n",
       "      <th>1520</th>\n",
       "      <td>2501</td>\n",
       "    </tr>\n",
       "    <tr>\n",
       "      <th>1635</th>\n",
       "      <td>2718</td>\n",
       "    </tr>\n",
       "    <tr>\n",
       "      <th>1646</th>\n",
       "      <td>2759</td>\n",
       "    </tr>\n",
       "    <tr>\n",
       "      <th>1700</th>\n",
       "      <td>2882</td>\n",
       "    </tr>\n",
       "    <tr>\n",
       "      <th>1785</th>\n",
       "      <td>3105</td>\n",
       "    </tr>\n",
       "    <tr>\n",
       "      <th>1807</th>\n",
       "      <td>3156</td>\n",
       "    </tr>\n",
       "    <tr>\n",
       "      <th>1942</th>\n",
       "      <td>3489</td>\n",
       "    </tr>\n",
       "    <tr>\n",
       "      <th>2102</th>\n",
       "      <td>3882</td>\n",
       "    </tr>\n",
       "    <tr>\n",
       "      <th>2348</th>\n",
       "      <td>4372</td>\n",
       "    </tr>\n",
       "    <tr>\n",
       "      <th>2723</th>\n",
       "      <td>5334</td>\n",
       "    </tr>\n",
       "    <tr>\n",
       "      <th>2732</th>\n",
       "      <td>5349</td>\n",
       "    </tr>\n",
       "    <tr>\n",
       "      <th>2801</th>\n",
       "      <td>5528</td>\n",
       "    </tr>\n",
       "    <tr>\n",
       "      <th>3108</th>\n",
       "      <td>6285</td>\n",
       "    </tr>\n",
       "    <tr>\n",
       "      <th>3489</th>\n",
       "      <td>7154</td>\n",
       "    </tr>\n",
       "    <tr>\n",
       "      <th>3565</th>\n",
       "      <td>7324</td>\n",
       "    </tr>\n",
       "    <tr>\n",
       "      <th>3824</th>\n",
       "      <td>8636</td>\n",
       "    </tr>\n",
       "    <tr>\n",
       "      <th>3895</th>\n",
       "      <td>8866</td>\n",
       "    </tr>\n",
       "  </tbody>\n",
       "</table>\n",
       "</div>"
      ],
      "text/plain": [
       "      movieId\n",
       "120       137\n",
       "121     48593\n",
       "412       500\n",
       "601       765\n",
       "1120     1702\n",
       "1409     2253\n",
       "1430     2297\n",
       "1483     2431\n",
       "1520     2501\n",
       "1635     2718\n",
       "1646     2759\n",
       "1700     2882\n",
       "1785     3105\n",
       "1807     3156\n",
       "1942     3489\n",
       "2102     3882\n",
       "2348     4372\n",
       "2723     5334\n",
       "2732     5349\n",
       "2801     5528\n",
       "3108     6285\n",
       "3489     7154\n",
       "3565     7324\n",
       "3824     8636\n",
       "3895     8866"
      ]
     },
     "execution_count": 20,
     "metadata": {},
     "output_type": "execute_result"
    }
   ],
   "source": [
    "content_results = pd.DataFrame(movies_bow['movieId'].iloc[movie_indices])\n",
    "content_results "
   ]
  },
  {
   "cell_type": "code",
   "execution_count": 22,
   "metadata": {},
   "outputs": [
    {
     "data": {
      "text/html": [
       "<div>\n",
       "<style scoped>\n",
       "    .dataframe tbody tr th:only-of-type {\n",
       "        vertical-align: middle;\n",
       "    }\n",
       "\n",
       "    .dataframe tbody tr th {\n",
       "        vertical-align: top;\n",
       "    }\n",
       "\n",
       "    .dataframe thead th {\n",
       "        text-align: right;\n",
       "    }\n",
       "</style>\n",
       "<table border=\"1\" class=\"dataframe\">\n",
       "  <thead>\n",
       "    <tr style=\"text-align: right;\">\n",
       "      <th></th>\n",
       "      <th>movieId</th>\n",
       "      <th>60</th>\n",
       "    </tr>\n",
       "  </thead>\n",
       "  <tbody>\n",
       "    <tr>\n",
       "      <th>0</th>\n",
       "      <td>296</td>\n",
       "      <td>5.001825</td>\n",
       "    </tr>\n",
       "    <tr>\n",
       "      <th>1</th>\n",
       "      <td>2858</td>\n",
       "      <td>4.363025</td>\n",
       "    </tr>\n",
       "    <tr>\n",
       "      <th>2</th>\n",
       "      <td>608</td>\n",
       "      <td>3.931749</td>\n",
       "    </tr>\n",
       "    <tr>\n",
       "      <th>3</th>\n",
       "      <td>1193</td>\n",
       "      <td>3.701406</td>\n",
       "    </tr>\n",
       "    <tr>\n",
       "      <th>4</th>\n",
       "      <td>778</td>\n",
       "      <td>3.509410</td>\n",
       "    </tr>\n",
       "  </tbody>\n",
       "</table>\n",
       "</div>"
      ],
      "text/plain": [
       "   movieId        60\n",
       "0      296  5.001825\n",
       "1     2858  4.363025\n",
       "2      608  3.931749\n",
       "3     1193  3.701406\n",
       "4      778  3.509410"
      ]
     },
     "execution_count": 22,
     "metadata": {},
     "output_type": "execute_result"
    }
   ],
   "source": [
    "# Collaborative Filtering Sections\n",
    "# get user predictions\n",
    "user_row_number = 60 # User ID starts at 1, not 0\n",
    "sorted_user_predictions = pd.DataFrame(preds.iloc[user_row_number].sort_values(ascending=False).reset_index())\n",
    "sorted_user_predictions.head()\n"
   ]
  },
  {
   "cell_type": "code",
   "execution_count": 23,
   "metadata": {},
   "outputs": [],
   "source": [
    "# Get the movies the user originally rated\n",
    "user_data = ratings[ratings.userId == user_row_number]\n",
    "\n",
    "#combine the movies the user originally rated with the movies dataset and only keeping the movies\n",
    "#the user rated\n",
    "user_full = (user_data.merge(movies, how = 'left', left_on = 'movieId', right_on = 'movieId').\n",
    "                     sort_values(['rating'], ascending=False))\n"
   ]
  },
  {
   "cell_type": "code",
   "execution_count": 24,
   "metadata": {},
   "outputs": [
    {
     "name": "stdout",
     "output_type": "stream",
     "text": [
      "Index(['userId', 'num_user_rated', 'movieId', 'Title_x', 'rating', 'Title_y',\n",
      "       'genres', 'Actors', 'Director', 'Plot', 'Poster'],\n",
      "      dtype='object')\n"
     ]
    },
    {
     "data": {
      "text/html": [
       "<div>\n",
       "<style scoped>\n",
       "    .dataframe tbody tr th:only-of-type {\n",
       "        vertical-align: middle;\n",
       "    }\n",
       "\n",
       "    .dataframe tbody tr th {\n",
       "        vertical-align: top;\n",
       "    }\n",
       "\n",
       "    .dataframe thead th {\n",
       "        text-align: right;\n",
       "    }\n",
       "</style>\n",
       "<table border=\"1\" class=\"dataframe\">\n",
       "  <thead>\n",
       "    <tr style=\"text-align: right;\">\n",
       "      <th></th>\n",
       "      <th>userId</th>\n",
       "      <th>movieId</th>\n",
       "      <th>Title</th>\n",
       "      <th>rating</th>\n",
       "      <th>genres</th>\n",
       "      <th>Actors</th>\n",
       "      <th>Director</th>\n",
       "      <th>Plot</th>\n",
       "      <th>Poster</th>\n",
       "    </tr>\n",
       "  </thead>\n",
       "  <tbody>\n",
       "    <tr>\n",
       "      <th>0</th>\n",
       "      <td>60</td>\n",
       "      <td>4878</td>\n",
       "      <td>Donnie Darko</td>\n",
       "      <td>5.0</td>\n",
       "      <td>Drama|Mystery|Sci-Fi|Thriller</td>\n",
       "      <td>Jake Gyllenhaal, Holmes Osborne, Maggie Gyllen...</td>\n",
       "      <td>Richard Kelly</td>\n",
       "      <td>A troubled teenager is plagued by visions of a...</td>\n",
       "      <td>https://m.media-amazon.com/images/M/MV5BZjZlZD...</td>\n",
       "    </tr>\n",
       "    <tr>\n",
       "      <th>52</th>\n",
       "      <td>60</td>\n",
       "      <td>8957</td>\n",
       "      <td>Saw</td>\n",
       "      <td>5.0</td>\n",
       "      <td>Horror|Mystery|Thriller</td>\n",
       "      <td>Leigh Whannell, Cary Elwes, Danny Glover, Ken ...</td>\n",
       "      <td>James Wan</td>\n",
       "      <td>Two strangers, who awaken in a room with no re...</td>\n",
       "      <td>https://m.media-amazon.com/images/M/MV5BMjE4MD...</td>\n",
       "    </tr>\n",
       "    <tr>\n",
       "      <th>32</th>\n",
       "      <td>60</td>\n",
       "      <td>714</td>\n",
       "      <td>Dead Man</td>\n",
       "      <td>5.0</td>\n",
       "      <td>Drama|Mystery|Western</td>\n",
       "      <td>Johnny Depp, Gary Farmer, Crispin Glover, Lanc...</td>\n",
       "      <td>Jim Jarmusch</td>\n",
       "      <td>On the run after murdering a man, accountant W...</td>\n",
       "      <td>https://m.media-amazon.com/images/M/MV5BYTJlZm...</td>\n",
       "    </tr>\n",
       "    <tr>\n",
       "      <th>33</th>\n",
       "      <td>60</td>\n",
       "      <td>1466</td>\n",
       "      <td>Donnie Brasco</td>\n",
       "      <td>5.0</td>\n",
       "      <td>Crime|Drama</td>\n",
       "      <td>Al Pacino, Johnny Depp, Michael Madsen, Bruno ...</td>\n",
       "      <td>Mike Newell</td>\n",
       "      <td>An FBI undercover agent infiltrates the mob an...</td>\n",
       "      <td>https://m.media-amazon.com/images/M/MV5BYzMzMD...</td>\n",
       "    </tr>\n",
       "    <tr>\n",
       "      <th>22</th>\n",
       "      <td>60</td>\n",
       "      <td>2329</td>\n",
       "      <td>American History X</td>\n",
       "      <td>5.0</td>\n",
       "      <td>Crime|Drama</td>\n",
       "      <td>Edward Norton, Edward Furlong, Beverly D'Angel...</td>\n",
       "      <td>Tony Kaye</td>\n",
       "      <td>A former neo-nazi skinhead tries to prevent hi...</td>\n",
       "      <td>https://m.media-amazon.com/images/M/MV5BZjA0MT...</td>\n",
       "    </tr>\n",
       "  </tbody>\n",
       "</table>\n",
       "</div>"
      ],
      "text/plain": [
       "    userId  movieId               Title  rating  \\\n",
       "0       60     4878        Donnie Darko     5.0   \n",
       "52      60     8957                 Saw     5.0   \n",
       "32      60      714            Dead Man     5.0   \n",
       "33      60     1466       Donnie Brasco     5.0   \n",
       "22      60     2329  American History X     5.0   \n",
       "\n",
       "                           genres  \\\n",
       "0   Drama|Mystery|Sci-Fi|Thriller   \n",
       "52        Horror|Mystery|Thriller   \n",
       "32          Drama|Mystery|Western   \n",
       "33                    Crime|Drama   \n",
       "22                    Crime|Drama   \n",
       "\n",
       "                                               Actors       Director  \\\n",
       "0   Jake Gyllenhaal, Holmes Osborne, Maggie Gyllen...  Richard Kelly   \n",
       "52  Leigh Whannell, Cary Elwes, Danny Glover, Ken ...      James Wan   \n",
       "32  Johnny Depp, Gary Farmer, Crispin Glover, Lanc...   Jim Jarmusch   \n",
       "33  Al Pacino, Johnny Depp, Michael Madsen, Bruno ...    Mike Newell   \n",
       "22  Edward Norton, Edward Furlong, Beverly D'Angel...      Tony Kaye   \n",
       "\n",
       "                                                 Plot  \\\n",
       "0   A troubled teenager is plagued by visions of a...   \n",
       "52  Two strangers, who awaken in a room with no re...   \n",
       "32  On the run after murdering a man, accountant W...   \n",
       "33  An FBI undercover agent infiltrates the mob an...   \n",
       "22  A former neo-nazi skinhead tries to prevent hi...   \n",
       "\n",
       "                                               Poster  \n",
       "0   https://m.media-amazon.com/images/M/MV5BZjZlZD...  \n",
       "52  https://m.media-amazon.com/images/M/MV5BMjE4MD...  \n",
       "32  https://m.media-amazon.com/images/M/MV5BYTJlZm...  \n",
       "33  https://m.media-amazon.com/images/M/MV5BYzMzMD...  \n",
       "22  https://m.media-amazon.com/images/M/MV5BZjA0MT...  "
      ]
     },
     "execution_count": 24,
     "metadata": {},
     "output_type": "execute_result"
    }
   ],
   "source": [
    "print(user_full.columns)\n",
    "\n",
    "user_full = user_full[['userId', 'movieId', 'Title_x', 'rating', 'genres', 'Actors', 'Director', 'Plot', 'Poster']].\\\n",
    "            rename(columns = {'Title_x': 'Title'})\n",
    "user_full.head()\n"
   ]
  },
  {
   "cell_type": "code",
   "execution_count": 25,
   "metadata": {},
   "outputs": [],
   "source": [
    "num_recommendations = 1000\n"
   ]
  },
  {
   "cell_type": "markdown",
   "metadata": {},
   "source": [
    "I noticed if the user doesn't watch anything similar to the movie inputted, we need to return a wide range of values from the sorted ratings. This is why num_recommendations is so high. \n",
    "\n",
    "One workaround is to limit num_recommendations to 100 and if there are no matches between content and collaborative results, set a message saying you will not like movies like 'movie name'"
   ]
  },
  {
   "cell_type": "code",
   "execution_count": 26,
   "metadata": {},
   "outputs": [],
   "source": [
    "# Original Code from Collaborative Filter Function\n",
    "\n",
    "# Recommend the highest predicted rating movies that the user hasn't seen yet.\n",
    "movie_preds = (movies[~movies['movieId'].isin(user_full['movieId'])].\n",
    "         merge(pd.DataFrame(sorted_user_predictions).reset_index(), how = 'left',\n",
    "               left_on = 'movieId',\n",
    "               right_on = 'movieId').\n",
    "         rename(columns = {user_row_number: 'Predictions'}).\n",
    "         sort_values('Predictions', ascending = False).\n",
    "                       iloc[:num_recommendations]\n",
    ")\n"
   ]
  },
  {
   "cell_type": "code",
   "execution_count": 27,
   "metadata": {},
   "outputs": [
    {
     "data": {
      "text/plain": [
       "(1000, 9)"
      ]
     },
     "execution_count": 27,
     "metadata": {},
     "output_type": "execute_result"
    }
   ],
   "source": [
    "movie_preds.shape"
   ]
  },
  {
   "cell_type": "code",
   "execution_count": 28,
   "metadata": {},
   "outputs": [
    {
     "data": {
      "text/plain": [
       "(1000, 9)"
      ]
     },
     "execution_count": 28,
     "metadata": {},
     "output_type": "execute_result"
    }
   ],
   "source": [
    "movie_preds.shape"
   ]
  },
  {
   "cell_type": "code",
   "execution_count": 30,
   "metadata": {},
   "outputs": [],
   "source": [
    "# lookup movie predictions from content system from this dataframe\n",
    "\n",
    "movie_recs = pd.merge(content_results, movie_preds, how='left', on='movieId').\\\n",
    "    sort_values('Predictions', ascending=False).head()"
   ]
  },
  {
   "cell_type": "code",
   "execution_count": 31,
   "metadata": {},
   "outputs": [
    {
     "data": {
      "text/html": [
       "<div>\n",
       "<style scoped>\n",
       "    .dataframe tbody tr th:only-of-type {\n",
       "        vertical-align: middle;\n",
       "    }\n",
       "\n",
       "    .dataframe tbody tr th {\n",
       "        vertical-align: top;\n",
       "    }\n",
       "\n",
       "    .dataframe thead th {\n",
       "        text-align: right;\n",
       "    }\n",
       "</style>\n",
       "<table border=\"1\" class=\"dataframe\">\n",
       "  <thead>\n",
       "    <tr style=\"text-align: right;\">\n",
       "      <th></th>\n",
       "      <th>movieId</th>\n",
       "      <th>Title</th>\n",
       "      <th>genres</th>\n",
       "      <th>Actors</th>\n",
       "      <th>Director</th>\n",
       "      <th>Plot</th>\n",
       "      <th>Poster</th>\n",
       "      <th>index</th>\n",
       "      <th>Predictions</th>\n",
       "    </tr>\n",
       "  </thead>\n",
       "  <tbody>\n",
       "    <tr>\n",
       "      <th>12</th>\n",
       "      <td>3105</td>\n",
       "      <td>Awakenings</td>\n",
       "      <td>Drama|Mystery</td>\n",
       "      <td>Robert De Niro, Robin Williams, Julie Kavner, ...</td>\n",
       "      <td>Penny Marshall</td>\n",
       "      <td>The victims of an encephalitis epidemic many y...</td>\n",
       "      <td>https://m.media-amazon.com/images/M/MV5BMjI5Nj...</td>\n",
       "      <td>302.0</td>\n",
       "      <td>0.185617</td>\n",
       "    </tr>\n",
       "    <tr>\n",
       "      <th>19</th>\n",
       "      <td>5528</td>\n",
       "      <td>One Hour Photo</td>\n",
       "      <td>Drama|Thriller</td>\n",
       "      <td>Robin Williams, Connie Nielsen, Michael Vartan...</td>\n",
       "      <td>Mark Romanek</td>\n",
       "      <td>A mentally unstable photo developer targets a ...</td>\n",
       "      <td>https://m.media-amazon.com/images/M/MV5BYWVkMj...</td>\n",
       "      <td>365.0</td>\n",
       "      <td>0.156833</td>\n",
       "    </tr>\n",
       "    <tr>\n",
       "      <th>3</th>\n",
       "      <td>765</td>\n",
       "      <td>Jack</td>\n",
       "      <td>Comedy|Drama</td>\n",
       "      <td>Robin Williams, Diane Lane, Brian Kerwin, Jenn...</td>\n",
       "      <td>Francis Ford Coppola</td>\n",
       "      <td>Because of an unusual aging disorder that has ...</td>\n",
       "      <td>https://m.media-amazon.com/images/M/MV5BZDYyYz...</td>\n",
       "      <td>439.0</td>\n",
       "      <td>0.129562</td>\n",
       "    </tr>\n",
       "    <tr>\n",
       "      <th>13</th>\n",
       "      <td>3156</td>\n",
       "      <td>Bicentennial Man</td>\n",
       "      <td>Drama|Romance|Sci-Fi</td>\n",
       "      <td>Robin Williams, Embeth Davidtz, Sam Neill, Oli...</td>\n",
       "      <td>Chris Columbus</td>\n",
       "      <td>An android endeavors to become human as he gra...</td>\n",
       "      <td>https://m.media-amazon.com/images/M/MV5BYTU4Nz...</td>\n",
       "      <td>546.0</td>\n",
       "      <td>0.105328</td>\n",
       "    </tr>\n",
       "    <tr>\n",
       "      <th>7</th>\n",
       "      <td>2431</td>\n",
       "      <td>Patch Adams</td>\n",
       "      <td>Comedy|Drama</td>\n",
       "      <td>Robin Williams, Daniel London, Monica Potter, ...</td>\n",
       "      <td>Tom Shadyac</td>\n",
       "      <td>The true story of a heroic man, Hunter \"Patch\"...</td>\n",
       "      <td>https://m.media-amazon.com/images/M/MV5BNzM4Y2...</td>\n",
       "      <td>628.0</td>\n",
       "      <td>0.088331</td>\n",
       "    </tr>\n",
       "  </tbody>\n",
       "</table>\n",
       "</div>"
      ],
      "text/plain": [
       "    movieId             Title                genres  \\\n",
       "12     3105        Awakenings         Drama|Mystery   \n",
       "19     5528    One Hour Photo        Drama|Thriller   \n",
       "3       765              Jack          Comedy|Drama   \n",
       "13     3156  Bicentennial Man  Drama|Romance|Sci-Fi   \n",
       "7      2431       Patch Adams          Comedy|Drama   \n",
       "\n",
       "                                               Actors              Director  \\\n",
       "12  Robert De Niro, Robin Williams, Julie Kavner, ...        Penny Marshall   \n",
       "19  Robin Williams, Connie Nielsen, Michael Vartan...          Mark Romanek   \n",
       "3   Robin Williams, Diane Lane, Brian Kerwin, Jenn...  Francis Ford Coppola   \n",
       "13  Robin Williams, Embeth Davidtz, Sam Neill, Oli...        Chris Columbus   \n",
       "7   Robin Williams, Daniel London, Monica Potter, ...           Tom Shadyac   \n",
       "\n",
       "                                                 Plot  \\\n",
       "12  The victims of an encephalitis epidemic many y...   \n",
       "19  A mentally unstable photo developer targets a ...   \n",
       "3   Because of an unusual aging disorder that has ...   \n",
       "13  An android endeavors to become human as he gra...   \n",
       "7   The true story of a heroic man, Hunter \"Patch\"...   \n",
       "\n",
       "                                               Poster  index  Predictions  \n",
       "12  https://m.media-amazon.com/images/M/MV5BMjI5Nj...  302.0     0.185617  \n",
       "19  https://m.media-amazon.com/images/M/MV5BYWVkMj...  365.0     0.156833  \n",
       "3   https://m.media-amazon.com/images/M/MV5BZDYyYz...  439.0     0.129562  \n",
       "13  https://m.media-amazon.com/images/M/MV5BYTU4Nz...  546.0     0.105328  \n",
       "7   https://m.media-amazon.com/images/M/MV5BNzM4Y2...  628.0     0.088331  "
      ]
     },
     "execution_count": 31,
     "metadata": {},
     "output_type": "execute_result"
    }
   ],
   "source": [
    "movie_recs"
   ]
  }
 ],
 "metadata": {
  "kernelspec": {
   "display_name": "Python 3",
   "language": "python",
   "name": "python3"
  },
  "language_info": {
   "codemirror_mode": {
    "name": "ipython",
    "version": 3
   },
   "file_extension": ".py",
   "mimetype": "text/x-python",
   "name": "python",
   "nbconvert_exporter": "python",
   "pygments_lexer": "ipython3",
   "version": "3.6.8"
  }
 },
 "nbformat": 4,
 "nbformat_minor": 2
}
